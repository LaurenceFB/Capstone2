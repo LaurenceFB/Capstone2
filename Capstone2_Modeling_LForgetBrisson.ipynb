{
 "cells": [
  {
   "cell_type": "markdown",
   "id": "f48a427d",
   "metadata": {},
   "source": [
    "# Capstone 2 - Modeling"
   ]
  },
  {
   "cell_type": "markdown",
   "id": "e7e1416b",
   "metadata": {},
   "source": [
    "Question: What is the evolution of the impact of catastrophic events on the commercial aerial traffic in Canada, between 2001 and 2018?"
   ]
  },
  {
   "cell_type": "markdown",
   "id": "a54ab257",
   "metadata": {},
   "source": [
    "Previous steps:\n",
    "- In the Data Wrangling step, data was collected from two open source datasets, which were called \"disaster\" and \"airline\". Missing values have been managed, time values have been formatted, relevant columns have been preserved while the others have been dropped and both datasets were set to correspond to the same timeframe. The airline dataset has further been fragmented into two, corresponding to airline_total (at the country scale) and airline_local (at the province and territory scale). Here are the remaining cleaned dataset:\n",
    "    - The disaster dataset contains the information relative to the natural disasters recorded in Canada during the period between 2001 and 2018.\n",
    "    - The airline_total dataset contains the monthly total aerial movements for Canada for the period between 2001 and 2018.\n",
    "    - The airline_local dataset contains the monthly aerial movements recorded for each airports of Canada for the period between 2001 and 2018\n",
    "- In the Exploratory Data Analysis step, specific occurences of each type of disaster events were observed (absolute and yearly, and geographically). In the airline_total dataset, the frequence of total aerial movement by year and by month was verified, while in the airline_local dataset, the frequence of total aerial movement yearly and monthly was observed for each provinces and territories. Datasets were than merged to create disaster_local_monthly (merged_df).\n",
    "- In the Pre-processing and Training Data Development step, dummy variables were assigned to categorical values ('EVENT_TYPE' and 'prov_ter'). The merged dataframe was further splitted into train and test data (75:25).\n",
    "\n",
    "Associated notebooks:\n",
    "- Data Wrangling: https://github.com/LaurenceFB/Capstone2/blob/main/Capstone2_DataWrangling_LForgetBrisson.ipynb\n",
    "- Exploratory Data Analysis: https://github.com/LaurenceFB/Capstone2/blob/main/Capstone2_EDA_LForgetBrisson.ipynb\n",
    "- Pre-processing and Training Data Development: https://github.com/LaurenceFB/Capstone2/blob/main/Capstone2_Pre-processingTraining_LForgetBrisson.ipynb\n"
   ]
  },
  {
   "cell_type": "markdown",
   "id": "d08c6f9b",
   "metadata": {},
   "source": [
    "Modeling is used in this project to predict the aerial traffic (a continuous variable) through time considering the occurance of environmental disaster events. \n",
    "\n",
    "2 modeling methods will be tested on this dataset:\n",
    "1) Linear regression; and 2) Random Forest.\n",
    "\n",
    "- A linear regression model allows to simulates the relation between one or multiple independent variables and the target (dependent) variable, in order to assess trends and generate estimation or prevision.\n",
    "\n",
    "- Random forest perfoms multiple decision trees, each making a prediction (classification or regression), in order to improve accuracy and minimize over-fitting."
   ]
  },
  {
   "cell_type": "code",
   "execution_count": 1,
   "id": "842ef7e5",
   "metadata": {},
   "outputs": [],
   "source": [
    "# Importing pertinent packages\n",
    "import numpy as np\n",
    "import pandas as pd\n",
    "\n",
    "from sklearn import linear_model\n",
    "from sklearn import metrics\n",
    "from sklearn.model_selection import train_test_split, RandomizedSearchCV\n",
    "from sklearn.metrics import mean_squared_error, r2_score\n",
    "from sklearn.ensemble import RandomForestRegressor\n",
    "\n",
    "import math\n",
    "import statsmodels.api as sm\n",
    "\n",
    "import matplotlib.pyplot as plt\n",
    "import seaborn as sns\n",
    "\n",
    "import warnings"
   ]
  },
  {
   "cell_type": "code",
   "execution_count": 2,
   "id": "1ed75d67",
   "metadata": {
    "scrolled": true
   },
   "outputs": [
    {
     "data": {
      "text/html": [
       "<div>\n",
       "<style scoped>\n",
       "    .dataframe tbody tr th:only-of-type {\n",
       "        vertical-align: middle;\n",
       "    }\n",
       "\n",
       "    .dataframe tbody tr th {\n",
       "        vertical-align: top;\n",
       "    }\n",
       "\n",
       "    .dataframe thead th {\n",
       "        text-align: right;\n",
       "    }\n",
       "</style>\n",
       "<table border=\"1\" class=\"dataframe\">\n",
       "  <thead>\n",
       "    <tr style=\"text-align: right;\">\n",
       "      <th></th>\n",
       "      <th>VALUE</th>\n",
       "      <th>year</th>\n",
       "      <th>month</th>\n",
       "      <th>Avalanche</th>\n",
       "      <th>Drought</th>\n",
       "      <th>Earthquake</th>\n",
       "      <th>Flood</th>\n",
       "      <th>Heat Event</th>\n",
       "      <th>Hurricane / Typhoon / Tropical Storm</th>\n",
       "      <th>Landslide</th>\n",
       "      <th>...</th>\n",
       "      <th>BC</th>\n",
       "      <th>MB</th>\n",
       "      <th>NB</th>\n",
       "      <th>NFL</th>\n",
       "      <th>NS</th>\n",
       "      <th>NWT</th>\n",
       "      <th>ON</th>\n",
       "      <th>QC</th>\n",
       "      <th>SK</th>\n",
       "      <th>YU</th>\n",
       "    </tr>\n",
       "  </thead>\n",
       "  <tbody>\n",
       "    <tr>\n",
       "      <th>0</th>\n",
       "      <td>49568.0</td>\n",
       "      <td>2001.0</td>\n",
       "      <td>1.0</td>\n",
       "      <td>0.0</td>\n",
       "      <td>0.0</td>\n",
       "      <td>0.0</td>\n",
       "      <td>0.0</td>\n",
       "      <td>0.0</td>\n",
       "      <td>0.0</td>\n",
       "      <td>0.0</td>\n",
       "      <td>...</td>\n",
       "      <td>0</td>\n",
       "      <td>0</td>\n",
       "      <td>0</td>\n",
       "      <td>0</td>\n",
       "      <td>0</td>\n",
       "      <td>0</td>\n",
       "      <td>0</td>\n",
       "      <td>0</td>\n",
       "      <td>0</td>\n",
       "      <td>0</td>\n",
       "    </tr>\n",
       "    <tr>\n",
       "      <th>1</th>\n",
       "      <td>89058.0</td>\n",
       "      <td>2001.0</td>\n",
       "      <td>1.0</td>\n",
       "      <td>0.0</td>\n",
       "      <td>0.0</td>\n",
       "      <td>0.0</td>\n",
       "      <td>0.0</td>\n",
       "      <td>0.0</td>\n",
       "      <td>0.0</td>\n",
       "      <td>0.0</td>\n",
       "      <td>...</td>\n",
       "      <td>1</td>\n",
       "      <td>0</td>\n",
       "      <td>0</td>\n",
       "      <td>0</td>\n",
       "      <td>0</td>\n",
       "      <td>0</td>\n",
       "      <td>0</td>\n",
       "      <td>0</td>\n",
       "      <td>0</td>\n",
       "      <td>0</td>\n",
       "    </tr>\n",
       "    <tr>\n",
       "      <th>2</th>\n",
       "      <td>19869.0</td>\n",
       "      <td>2001.0</td>\n",
       "      <td>1.0</td>\n",
       "      <td>0.0</td>\n",
       "      <td>0.0</td>\n",
       "      <td>0.0</td>\n",
       "      <td>0.0</td>\n",
       "      <td>0.0</td>\n",
       "      <td>0.0</td>\n",
       "      <td>0.0</td>\n",
       "      <td>...</td>\n",
       "      <td>0</td>\n",
       "      <td>1</td>\n",
       "      <td>0</td>\n",
       "      <td>0</td>\n",
       "      <td>0</td>\n",
       "      <td>0</td>\n",
       "      <td>0</td>\n",
       "      <td>0</td>\n",
       "      <td>0</td>\n",
       "      <td>0</td>\n",
       "    </tr>\n",
       "    <tr>\n",
       "      <th>3</th>\n",
       "      <td>4966.0</td>\n",
       "      <td>2001.0</td>\n",
       "      <td>1.0</td>\n",
       "      <td>0.0</td>\n",
       "      <td>0.0</td>\n",
       "      <td>0.0</td>\n",
       "      <td>0.0</td>\n",
       "      <td>0.0</td>\n",
       "      <td>0.0</td>\n",
       "      <td>0.0</td>\n",
       "      <td>...</td>\n",
       "      <td>0</td>\n",
       "      <td>0</td>\n",
       "      <td>1</td>\n",
       "      <td>0</td>\n",
       "      <td>0</td>\n",
       "      <td>0</td>\n",
       "      <td>0</td>\n",
       "      <td>0</td>\n",
       "      <td>0</td>\n",
       "      <td>0</td>\n",
       "    </tr>\n",
       "    <tr>\n",
       "      <th>4</th>\n",
       "      <td>7964.0</td>\n",
       "      <td>2001.0</td>\n",
       "      <td>1.0</td>\n",
       "      <td>0.0</td>\n",
       "      <td>0.0</td>\n",
       "      <td>0.0</td>\n",
       "      <td>0.0</td>\n",
       "      <td>0.0</td>\n",
       "      <td>0.0</td>\n",
       "      <td>0.0</td>\n",
       "      <td>...</td>\n",
       "      <td>0</td>\n",
       "      <td>0</td>\n",
       "      <td>0</td>\n",
       "      <td>1</td>\n",
       "      <td>0</td>\n",
       "      <td>0</td>\n",
       "      <td>0</td>\n",
       "      <td>0</td>\n",
       "      <td>0</td>\n",
       "      <td>0</td>\n",
       "    </tr>\n",
       "    <tr>\n",
       "      <th>...</th>\n",
       "      <td>...</td>\n",
       "      <td>...</td>\n",
       "      <td>...</td>\n",
       "      <td>...</td>\n",
       "      <td>...</td>\n",
       "      <td>...</td>\n",
       "      <td>...</td>\n",
       "      <td>...</td>\n",
       "      <td>...</td>\n",
       "      <td>...</td>\n",
       "      <td>...</td>\n",
       "      <td>...</td>\n",
       "      <td>...</td>\n",
       "      <td>...</td>\n",
       "      <td>...</td>\n",
       "      <td>...</td>\n",
       "      <td>...</td>\n",
       "      <td>...</td>\n",
       "      <td>...</td>\n",
       "      <td>...</td>\n",
       "      <td>...</td>\n",
       "    </tr>\n",
       "    <tr>\n",
       "      <th>2360</th>\n",
       "      <td>3390.0</td>\n",
       "      <td>2018.0</td>\n",
       "      <td>1.0</td>\n",
       "      <td>0.0</td>\n",
       "      <td>0.0</td>\n",
       "      <td>0.0</td>\n",
       "      <td>0.0</td>\n",
       "      <td>0.0</td>\n",
       "      <td>0.0</td>\n",
       "      <td>0.0</td>\n",
       "      <td>...</td>\n",
       "      <td>0</td>\n",
       "      <td>0</td>\n",
       "      <td>0</td>\n",
       "      <td>0</td>\n",
       "      <td>0</td>\n",
       "      <td>1</td>\n",
       "      <td>0</td>\n",
       "      <td>0</td>\n",
       "      <td>0</td>\n",
       "      <td>0</td>\n",
       "    </tr>\n",
       "    <tr>\n",
       "      <th>2361</th>\n",
       "      <td>92554.0</td>\n",
       "      <td>2018.0</td>\n",
       "      <td>1.0</td>\n",
       "      <td>0.0</td>\n",
       "      <td>0.0</td>\n",
       "      <td>0.0</td>\n",
       "      <td>0.0</td>\n",
       "      <td>0.0</td>\n",
       "      <td>0.0</td>\n",
       "      <td>0.0</td>\n",
       "      <td>...</td>\n",
       "      <td>0</td>\n",
       "      <td>0</td>\n",
       "      <td>0</td>\n",
       "      <td>0</td>\n",
       "      <td>0</td>\n",
       "      <td>0</td>\n",
       "      <td>1</td>\n",
       "      <td>0</td>\n",
       "      <td>0</td>\n",
       "      <td>0</td>\n",
       "    </tr>\n",
       "    <tr>\n",
       "      <th>2362</th>\n",
       "      <td>40929.0</td>\n",
       "      <td>2018.0</td>\n",
       "      <td>1.0</td>\n",
       "      <td>0.0</td>\n",
       "      <td>0.0</td>\n",
       "      <td>0.0</td>\n",
       "      <td>0.0</td>\n",
       "      <td>0.0</td>\n",
       "      <td>0.0</td>\n",
       "      <td>0.0</td>\n",
       "      <td>...</td>\n",
       "      <td>0</td>\n",
       "      <td>0</td>\n",
       "      <td>0</td>\n",
       "      <td>0</td>\n",
       "      <td>0</td>\n",
       "      <td>0</td>\n",
       "      <td>0</td>\n",
       "      <td>1</td>\n",
       "      <td>0</td>\n",
       "      <td>0</td>\n",
       "    </tr>\n",
       "    <tr>\n",
       "      <th>2363</th>\n",
       "      <td>11215.0</td>\n",
       "      <td>2018.0</td>\n",
       "      <td>1.0</td>\n",
       "      <td>0.0</td>\n",
       "      <td>0.0</td>\n",
       "      <td>0.0</td>\n",
       "      <td>0.0</td>\n",
       "      <td>0.0</td>\n",
       "      <td>0.0</td>\n",
       "      <td>0.0</td>\n",
       "      <td>...</td>\n",
       "      <td>0</td>\n",
       "      <td>0</td>\n",
       "      <td>0</td>\n",
       "      <td>0</td>\n",
       "      <td>0</td>\n",
       "      <td>0</td>\n",
       "      <td>0</td>\n",
       "      <td>0</td>\n",
       "      <td>1</td>\n",
       "      <td>0</td>\n",
       "    </tr>\n",
       "    <tr>\n",
       "      <th>2364</th>\n",
       "      <td>2155.0</td>\n",
       "      <td>2018.0</td>\n",
       "      <td>1.0</td>\n",
       "      <td>0.0</td>\n",
       "      <td>0.0</td>\n",
       "      <td>0.0</td>\n",
       "      <td>0.0</td>\n",
       "      <td>0.0</td>\n",
       "      <td>0.0</td>\n",
       "      <td>0.0</td>\n",
       "      <td>...</td>\n",
       "      <td>0</td>\n",
       "      <td>0</td>\n",
       "      <td>0</td>\n",
       "      <td>0</td>\n",
       "      <td>0</td>\n",
       "      <td>0</td>\n",
       "      <td>0</td>\n",
       "      <td>0</td>\n",
       "      <td>0</td>\n",
       "      <td>1</td>\n",
       "    </tr>\n",
       "  </tbody>\n",
       "</table>\n",
       "<p>2365 rows × 28 columns</p>\n",
       "</div>"
      ],
      "text/plain": [
       "        VALUE    year  month  Avalanche  Drought  Earthquake  Flood  \\\n",
       "0     49568.0  2001.0    1.0        0.0      0.0         0.0    0.0   \n",
       "1     89058.0  2001.0    1.0        0.0      0.0         0.0    0.0   \n",
       "2     19869.0  2001.0    1.0        0.0      0.0         0.0    0.0   \n",
       "3      4966.0  2001.0    1.0        0.0      0.0         0.0    0.0   \n",
       "4      7964.0  2001.0    1.0        0.0      0.0         0.0    0.0   \n",
       "...       ...     ...    ...        ...      ...         ...    ...   \n",
       "2360   3390.0  2018.0    1.0        0.0      0.0         0.0    0.0   \n",
       "2361  92554.0  2018.0    1.0        0.0      0.0         0.0    0.0   \n",
       "2362  40929.0  2018.0    1.0        0.0      0.0         0.0    0.0   \n",
       "2363  11215.0  2018.0    1.0        0.0      0.0         0.0    0.0   \n",
       "2364   2155.0  2018.0    1.0        0.0      0.0         0.0    0.0   \n",
       "\n",
       "      Heat Event  Hurricane / Typhoon / Tropical Storm  Landslide  ...  BC  \\\n",
       "0            0.0                                   0.0        0.0  ...   0   \n",
       "1            0.0                                   0.0        0.0  ...   1   \n",
       "2            0.0                                   0.0        0.0  ...   0   \n",
       "3            0.0                                   0.0        0.0  ...   0   \n",
       "4            0.0                                   0.0        0.0  ...   0   \n",
       "...          ...                                   ...        ...  ...  ..   \n",
       "2360         0.0                                   0.0        0.0  ...   0   \n",
       "2361         0.0                                   0.0        0.0  ...   0   \n",
       "2362         0.0                                   0.0        0.0  ...   0   \n",
       "2363         0.0                                   0.0        0.0  ...   0   \n",
       "2364         0.0                                   0.0        0.0  ...   0   \n",
       "\n",
       "      MB  NB  NFL  NS  NWT  ON  QC  SK  YU  \n",
       "0      0   0    0   0    0   0   0   0   0  \n",
       "1      0   0    0   0    0   0   0   0   0  \n",
       "2      1   0    0   0    0   0   0   0   0  \n",
       "3      0   1    0   0    0   0   0   0   0  \n",
       "4      0   0    1   0    0   0   0   0   0  \n",
       "...   ..  ..  ...  ..  ...  ..  ..  ..  ..  \n",
       "2360   0   0    0   0    1   0   0   0   0  \n",
       "2361   0   0    0   0    0   1   0   0   0  \n",
       "2362   0   0    0   0    0   0   1   0   0  \n",
       "2363   0   0    0   0    0   0   0   1   0  \n",
       "2364   0   0    0   0    0   0   0   0   1  \n",
       "\n",
       "[2365 rows x 28 columns]"
      ]
     },
     "execution_count": 2,
     "metadata": {},
     "output_type": "execute_result"
    }
   ],
   "source": [
    "# Importing the dataset\n",
    "df = pd.read_csv('df.csv')\n",
    "df"
   ]
  },
  {
   "cell_type": "code",
   "execution_count": 3,
   "id": "aee108d4",
   "metadata": {},
   "outputs": [
    {
     "data": {
      "text/plain": [
       "Index(['VALUE', 'year', 'month', 'Avalanche', 'Drought', 'Earthquake', 'Flood',\n",
       "       'Heat Event', 'Hurricane / Typhoon / Tropical Storm', 'Landslide',\n",
       "       'Storm - Unspecified / Other', 'Storm Surge',\n",
       "       'Storms and Severe Thunderstorms', 'Tornado', 'Wildfire',\n",
       "       'Winter Storm', 'sum_events', 'AB', 'BC', 'MB', 'NB', 'NFL', 'NS',\n",
       "       'NWT', 'ON', 'QC', 'SK', 'YU'],\n",
       "      dtype='object')"
      ]
     },
     "execution_count": 3,
     "metadata": {},
     "output_type": "execute_result"
    }
   ],
   "source": [
    "# Verification of the columns contained in the dataset.\n",
    "df.columns"
   ]
  },
  {
   "cell_type": "code",
   "execution_count": 4,
   "id": "0a0ab9c2",
   "metadata": {},
   "outputs": [],
   "source": [
    "# Fonction initialization to evaluate the basic and tuned models.\n",
    "# From willkoehrsen.github.io/_posts/2018-01-09-hyperparameter-tuning-the-random-forest-in-python-using-scikit-learn.md\n",
    "def evaluate(model, test_features, test_labels):\n",
    "    predictions = model.predict(test_features)\n",
    "    errors = abs(predictions - test_labels)\n",
    "    mape = 100 * np.mean(errors / test_labels)\n",
    "    accuracy = 100 - mape\n",
    "    print('Model Performance')\n",
    "    print('Average Error: {:0.4f} degrees.'.format(np.mean(errors)))\n",
    "    print('Accuracy = {:0.2f}%.'.format(accuracy))\n",
    "    \n",
    "    return accuracy"
   ]
  },
  {
   "cell_type": "markdown",
   "id": "0ab5d9f2",
   "metadata": {},
   "source": [
    "## 1) Linear regression"
   ]
  },
  {
   "cell_type": "markdown",
   "id": "05d8c5da",
   "metadata": {},
   "source": [
    "### 1.1 Linear model"
   ]
  },
  {
   "cell_type": "code",
   "execution_count": 5,
   "id": "9b88736c",
   "metadata": {},
   "outputs": [],
   "source": [
    "# Spliting data into training and testing set\n",
    "X = df.drop('VALUE', axis = 1)\n",
    "y = df.VALUE\n",
    "\n",
    "X_train, X_test, y_train, y_test = train_test_split(X, y, test_size=0.20, random_state=42)"
   ]
  },
  {
   "cell_type": "code",
   "execution_count": 6,
   "id": "743f1621",
   "metadata": {},
   "outputs": [
    {
     "data": {
      "text/plain": [
       "LinearRegression(normalize=True)"
      ]
     },
     "execution_count": 6,
     "metadata": {},
     "output_type": "execute_result"
    }
   ],
   "source": [
    "# Initialization of the model and fit.\n",
    "rModel = linear_model.LinearRegression(normalize=True)\n",
    "rModel.fit(X_train, y_train)"
   ]
  },
  {
   "cell_type": "code",
   "execution_count": 7,
   "id": "68f68fd1",
   "metadata": {},
   "outputs": [],
   "source": [
    "# Model prediction.\n",
    "y_pred = rModel.predict(X_test)"
   ]
  },
  {
   "cell_type": "code",
   "execution_count": 8,
   "id": "a505a9ea",
   "metadata": {},
   "outputs": [
    {
     "name": "stdout",
     "output_type": "stream",
     "text": [
      "R2 score: 0.9531131547469025\n",
      "RMSE: 8369.75709446194\n"
     ]
    }
   ],
   "source": [
    "# Evaluation of the model.\n",
    "print('R2 score:', metrics.r2_score(y_test, y_pred))\n",
    "print('RMSE:', np.sqrt(metrics.mean_squared_error(y_test, y_pred)))"
   ]
  },
  {
   "cell_type": "code",
   "execution_count": 9,
   "id": "5fb8f33d",
   "metadata": {},
   "outputs": [
    {
     "name": "stdout",
     "output_type": "stream",
     "text": [
      "Model Performance\n",
      "Average Error: 4847.0507 degrees.\n",
      "Accuracy = 77.68%.\n"
     ]
    }
   ],
   "source": [
    "# Evaluation of the model performances.\n",
    "accuracy = evaluate(rModel, X_test, y_test)"
   ]
  },
  {
   "cell_type": "code",
   "execution_count": 10,
   "id": "506c78a5",
   "metadata": {},
   "outputs": [
    {
     "data": {
      "text/plain": [
       "Text(0, 0.5, 'Predicted values')"
      ]
     },
     "execution_count": 10,
     "metadata": {},
     "output_type": "execute_result"
    },
    {
     "data": {
      "image/png": "[encoded data removed]",
      "text/plain": [
       "<Figure size 432x288 with 1 Axes>"
      ]
     },
     "metadata": {
      "needs_background": "light"
     },
     "output_type": "display_data"
    }
   ],
   "source": [
    "# Scatter plot of the predictions vs the actual result.\n",
    "plt.scatter(y_test,y_pred)\n",
    "plt.plot(np.unique(y_test), np.poly1d(np.polyfit(y_test, y_pred, 1))(np.unique(y_test)), color='r')\n",
    "plt.title(\"Linear regression\")\n",
    "plt.xlabel(\"Actual values\")\n",
    "plt.ylabel(\"Predicted values\")"
   ]
  },
  {
   "cell_type": "markdown",
   "id": "88c31039",
   "metadata": {},
   "source": [
    "### 1.2 Ordinary Least Squares (OLS) linear regression."
   ]
  },
  {
   "cell_type": "code",
   "execution_count": 11,
   "id": "2c0c24a8",
   "metadata": {},
   "outputs": [
    {
     "name": "stderr",
     "output_type": "stream",
     "text": [
      "C:\\Users\\laurence\\anaconda3\\lib\\site-packages\\statsmodels\\tsa\\tsatools.py:142: FutureWarning: In a future version of pandas all arguments of concat except for the argument 'objs' will be keyword-only\n",
      "  x = pd.concat(x[::order], 1)\n"
     ]
    }
   ],
   "source": [
    "# Spliting data into training and testing set\n",
    "X = sm.add_constant(X)\n",
    "y = df.VALUE\n",
    "X_train, X_test, y_train, y_test = train_test_split(X, y, test_size=0.20, random_state=42)\n",
    "\n",
    "# Initialization and fit of the model.\n",
    "rModel2 = sm.OLS(y_train, X_train).fit()\n",
    "\n",
    "# Model prediction.\n",
    "y_pred = rModel2.predict(X_test)"
   ]
  },
  {
   "cell_type": "code",
   "execution_count": 12,
   "id": "77efde77",
   "metadata": {},
   "outputs": [
    {
     "name": "stdout",
     "output_type": "stream",
     "text": [
      "RMSE: 8378.779123595814\n"
     ]
    }
   ],
   "source": [
    "print('RMSE:', np.sqrt(metrics.mean_squared_error(y_test, y_pred)))"
   ]
  },
  {
   "cell_type": "code",
   "execution_count": 13,
   "id": "21c29abd",
   "metadata": {},
   "outputs": [
    {
     "data": {
      "text/html": [
       "<table class=\"simpletable\">\n",
       "<caption>OLS Regression Results</caption>\n",
       "<tr>\n",
       "  <th>Dep. Variable:</th>          <td>VALUE</td>      <th>  R-squared:         </th> <td>   0.946</td> \n",
       "</tr>\n",
       "<tr>\n",
       "  <th>Model:</th>                   <td>OLS</td>       <th>  Adj. R-squared:    </th> <td>   0.946</td> \n",
       "</tr>\n",
       "<tr>\n",
       "  <th>Method:</th>             <td>Least Squares</td>  <th>  F-statistic:       </th> <td>   1368.</td> \n",
       "</tr>\n",
       "<tr>\n",
       "  <th>Date:</th>             <td>Sun, 30 Oct 2022</td> <th>  Prob (F-statistic):</th>  <td>  0.00</td>  \n",
       "</tr>\n",
       "<tr>\n",
       "  <th>Time:</th>                 <td>02:15:18</td>     <th>  Log-Likelihood:    </th> <td> -19874.</td> \n",
       "</tr>\n",
       "<tr>\n",
       "  <th>No. Observations:</th>      <td>  1892</td>      <th>  AIC:               </th> <td>3.980e+04</td>\n",
       "</tr>\n",
       "<tr>\n",
       "  <th>Df Residuals:</th>          <td>  1867</td>      <th>  BIC:               </th> <td>3.994e+04</td>\n",
       "</tr>\n",
       "<tr>\n",
       "  <th>Df Model:</th>              <td>    24</td>      <th>                     </th>     <td> </td>    \n",
       "</tr>\n",
       "<tr>\n",
       "  <th>Covariance Type:</th>      <td>nonrobust</td>    <th>                     </th>     <td> </td>    \n",
       "</tr>\n",
       "</table>\n",
       "<table class=\"simpletable\">\n",
       "<tr>\n",
       "                    <td></td>                      <th>coef</th>     <th>std err</th>      <th>t</th>      <th>P>|t|</th>  <th>[0.025</th>    <th>0.975]</th>  \n",
       "</tr>\n",
       "<tr>\n",
       "  <th>year</th>                                 <td>  -88.4168</td> <td>   39.544</td> <td>   -2.236</td> <td> 0.025</td> <td> -165.972</td> <td>  -10.861</td>\n",
       "</tr>\n",
       "<tr>\n",
       "  <th>month</th>                                <td> 1.943e+05</td> <td> 7.28e+04</td> <td>    2.668</td> <td> 0.008</td> <td> 5.15e+04</td> <td> 3.37e+05</td>\n",
       "</tr>\n",
       "<tr>\n",
       "  <th>Avalanche</th>                            <td>-1.621e+04</td> <td> 5988.063</td> <td>   -2.708</td> <td> 0.007</td> <td> -2.8e+04</td> <td>-4470.770</td>\n",
       "</tr>\n",
       "<tr>\n",
       "  <th>Drought</th>                              <td> 2360.6544</td> <td> 3934.893</td> <td>    0.600</td> <td> 0.549</td> <td>-5356.596</td> <td> 1.01e+04</td>\n",
       "</tr>\n",
       "<tr>\n",
       "  <th>Earthquake</th>                           <td> 3337.3955</td> <td> 8355.035</td> <td>    0.399</td> <td> 0.690</td> <td> -1.3e+04</td> <td> 1.97e+04</td>\n",
       "</tr>\n",
       "<tr>\n",
       "  <th>Flood</th>                                <td> 4058.0025</td> <td> 1669.505</td> <td>    2.431</td> <td> 0.015</td> <td>  783.710</td> <td> 7332.295</td>\n",
       "</tr>\n",
       "<tr>\n",
       "  <th>Heat Event</th>                           <td> 1.208e+04</td> <td> 8361.611</td> <td>    1.444</td> <td> 0.149</td> <td>-4323.358</td> <td> 2.85e+04</td>\n",
       "</tr>\n",
       "<tr>\n",
       "  <th>Hurricane / Typhoon / Tropical Storm</th> <td> 1987.9349</td> <td> 4956.798</td> <td>    0.401</td> <td> 0.688</td> <td>-7733.513</td> <td> 1.17e+04</td>\n",
       "</tr>\n",
       "<tr>\n",
       "  <th>Landslide</th>                            <td>-7497.5386</td> <td> 5039.293</td> <td>   -1.488</td> <td> 0.137</td> <td>-1.74e+04</td> <td> 2385.701</td>\n",
       "</tr>\n",
       "<tr>\n",
       "  <th>Storm - Unspecified / Other</th>          <td>  661.0678</td> <td> 2837.118</td> <td>    0.233</td> <td> 0.816</td> <td>-4903.189</td> <td> 6225.325</td>\n",
       "</tr>\n",
       "<tr>\n",
       "  <th>Storm Surge</th>                          <td>-8620.3153</td> <td> 8357.393</td> <td>   -1.031</td> <td> 0.302</td> <td> -2.5e+04</td> <td> 7770.500</td>\n",
       "</tr>\n",
       "<tr>\n",
       "  <th>Storms and Severe Thunderstorms</th>      <td> 3062.6660</td> <td> 1687.123</td> <td>    1.815</td> <td> 0.070</td> <td> -246.179</td> <td> 6371.511</td>\n",
       "</tr>\n",
       "<tr>\n",
       "  <th>Tornado</th>                              <td> 5819.3511</td> <td> 2680.577</td> <td>    2.171</td> <td> 0.030</td> <td>  562.108</td> <td> 1.11e+04</td>\n",
       "</tr>\n",
       "<tr>\n",
       "  <th>Wildfire</th>                             <td> 8780.2219</td> <td> 1719.803</td> <td>    5.105</td> <td> 0.000</td> <td> 5407.284</td> <td> 1.22e+04</td>\n",
       "</tr>\n",
       "<tr>\n",
       "  <th>Winter Storm</th>                         <td> -1.08e+04</td> <td> 2674.570</td> <td>   -4.039</td> <td> 0.000</td> <td> -1.6e+04</td> <td>-5556.052</td>\n",
       "</tr>\n",
       "<tr>\n",
       "  <th>sum_events</th>                           <td> -991.1141</td> <td> 1379.188</td> <td>   -0.719</td> <td> 0.472</td> <td>-3696.026</td> <td> 1713.798</td>\n",
       "</tr>\n",
       "<tr>\n",
       "  <th>AB</th>                                   <td> 3.877e+04</td> <td> 6652.155</td> <td>    5.829</td> <td> 0.000</td> <td> 2.57e+04</td> <td> 5.18e+04</td>\n",
       "</tr>\n",
       "<tr>\n",
       "  <th>BC</th>                                   <td> 7.661e+04</td> <td> 6665.184</td> <td>   11.495</td> <td> 0.000</td> <td> 6.35e+04</td> <td> 8.97e+04</td>\n",
       "</tr>\n",
       "<tr>\n",
       "  <th>MB</th>                                   <td> 2361.8897</td> <td> 6660.690</td> <td>    0.355</td> <td> 0.723</td> <td>-1.07e+04</td> <td> 1.54e+04</td>\n",
       "</tr>\n",
       "<tr>\n",
       "  <th>NB</th>                                   <td>-4599.6323</td> <td> 6656.856</td> <td>   -0.691</td> <td> 0.490</td> <td>-1.77e+04</td> <td> 8456.030</td>\n",
       "</tr>\n",
       "<tr>\n",
       "  <th>NFL</th>                                  <td>-9524.8530</td> <td> 6656.552</td> <td>   -1.431</td> <td> 0.153</td> <td>-2.26e+04</td> <td> 3530.213</td>\n",
       "</tr>\n",
       "<tr>\n",
       "  <th>NS</th>                                   <td>-9419.8309</td> <td> 6661.300</td> <td>   -1.414</td> <td> 0.157</td> <td>-2.25e+04</td> <td> 3644.546</td>\n",
       "</tr>\n",
       "<tr>\n",
       "  <th>NWT</th>                                  <td>-1.202e+04</td> <td> 6647.573</td> <td>   -1.808</td> <td> 0.071</td> <td>-2.51e+04</td> <td> 1019.988</td>\n",
       "</tr>\n",
       "<tr>\n",
       "  <th>ON</th>                                   <td> 9.627e+04</td> <td> 6641.164</td> <td>   14.496</td> <td> 0.000</td> <td> 8.32e+04</td> <td> 1.09e+05</td>\n",
       "</tr>\n",
       "<tr>\n",
       "  <th>QC</th>                                   <td> 3.513e+04</td> <td> 6639.729</td> <td>    5.291</td> <td> 0.000</td> <td> 2.21e+04</td> <td> 4.82e+04</td>\n",
       "</tr>\n",
       "<tr>\n",
       "  <th>SK</th>                                   <td>-4921.5277</td> <td> 6654.936</td> <td>   -0.740</td> <td> 0.460</td> <td> -1.8e+04</td> <td> 8130.368</td>\n",
       "</tr>\n",
       "<tr>\n",
       "  <th>YU</th>                                   <td>-1.433e+04</td> <td> 6659.418</td> <td>   -2.151</td> <td> 0.032</td> <td>-2.74e+04</td> <td>-1264.750</td>\n",
       "</tr>\n",
       "</table>\n",
       "<table class=\"simpletable\">\n",
       "<tr>\n",
       "  <th>Omnibus:</th>       <td>212.848</td> <th>  Durbin-Watson:     </th> <td>   1.979</td>\n",
       "</tr>\n",
       "<tr>\n",
       "  <th>Prob(Omnibus):</th> <td> 0.000</td>  <th>  Jarque-Bera (JB):  </th> <td>1861.689</td>\n",
       "</tr>\n",
       "<tr>\n",
       "  <th>Skew:</th>          <td>-0.091</td>  <th>  Prob(JB):          </th> <td>    0.00</td>\n",
       "</tr>\n",
       "<tr>\n",
       "  <th>Kurtosis:</th>      <td> 7.856</td>  <th>  Cond. No.          </th> <td>1.00e+16</td>\n",
       "</tr>\n",
       "</table><br/><br/>Notes:<br/>[1] Standard Errors assume that the covariance matrix of the errors is correctly specified.<br/>[2] The smallest eigenvalue is 7.63e-23. This might indicate that there are<br/>strong multicollinearity problems or that the design matrix is singular."
      ],
      "text/plain": [
       "<class 'statsmodels.iolib.summary.Summary'>\n",
       "\"\"\"\n",
       "                            OLS Regression Results                            \n",
       "==============================================================================\n",
       "Dep. Variable:                  VALUE   R-squared:                       0.946\n",
       "Model:                            OLS   Adj. R-squared:                  0.946\n",
       "Method:                 Least Squares   F-statistic:                     1368.\n",
       "Date:                Sun, 30 Oct 2022   Prob (F-statistic):               0.00\n",
       "Time:                        02:15:18   Log-Likelihood:                -19874.\n",
       "No. Observations:                1892   AIC:                         3.980e+04\n",
       "Df Residuals:                    1867   BIC:                         3.994e+04\n",
       "Df Model:                          24                                         \n",
       "Covariance Type:            nonrobust                                         \n",
       "========================================================================================================\n",
       "                                           coef    std err          t      P>|t|      [0.025      0.975]\n",
       "--------------------------------------------------------------------------------------------------------\n",
       "year                                   -88.4168     39.544     -2.236      0.025    -165.972     -10.861\n",
       "month                                 1.943e+05   7.28e+04      2.668      0.008    5.15e+04    3.37e+05\n",
       "Avalanche                            -1.621e+04   5988.063     -2.708      0.007    -2.8e+04   -4470.770\n",
       "Drought                               2360.6544   3934.893      0.600      0.549   -5356.596    1.01e+04\n",
       "Earthquake                            3337.3955   8355.035      0.399      0.690    -1.3e+04    1.97e+04\n",
       "Flood                                 4058.0025   1669.505      2.431      0.015     783.710    7332.295\n",
       "Heat Event                            1.208e+04   8361.611      1.444      0.149   -4323.358    2.85e+04\n",
       "Hurricane / Typhoon / Tropical Storm  1987.9349   4956.798      0.401      0.688   -7733.513    1.17e+04\n",
       "Landslide                            -7497.5386   5039.293     -1.488      0.137   -1.74e+04    2385.701\n",
       "Storm - Unspecified / Other            661.0678   2837.118      0.233      0.816   -4903.189    6225.325\n",
       "Storm Surge                          -8620.3153   8357.393     -1.031      0.302    -2.5e+04    7770.500\n",
       "Storms and Severe Thunderstorms       3062.6660   1687.123      1.815      0.070    -246.179    6371.511\n",
       "Tornado                               5819.3511   2680.577      2.171      0.030     562.108    1.11e+04\n",
       "Wildfire                              8780.2219   1719.803      5.105      0.000    5407.284    1.22e+04\n",
       "Winter Storm                          -1.08e+04   2674.570     -4.039      0.000    -1.6e+04   -5556.052\n",
       "sum_events                            -991.1141   1379.188     -0.719      0.472   -3696.026    1713.798\n",
       "AB                                    3.877e+04   6652.155      5.829      0.000    2.57e+04    5.18e+04\n",
       "BC                                    7.661e+04   6665.184     11.495      0.000    6.35e+04    8.97e+04\n",
       "MB                                    2361.8897   6660.690      0.355      0.723   -1.07e+04    1.54e+04\n",
       "NB                                   -4599.6323   6656.856     -0.691      0.490   -1.77e+04    8456.030\n",
       "NFL                                  -9524.8530   6656.552     -1.431      0.153   -2.26e+04    3530.213\n",
       "NS                                   -9419.8309   6661.300     -1.414      0.157   -2.25e+04    3644.546\n",
       "NWT                                  -1.202e+04   6647.573     -1.808      0.071   -2.51e+04    1019.988\n",
       "ON                                    9.627e+04   6641.164     14.496      0.000    8.32e+04    1.09e+05\n",
       "QC                                    3.513e+04   6639.729      5.291      0.000    2.21e+04    4.82e+04\n",
       "SK                                   -4921.5277   6654.936     -0.740      0.460    -1.8e+04    8130.368\n",
       "YU                                   -1.433e+04   6659.418     -2.151      0.032   -2.74e+04   -1264.750\n",
       "==============================================================================\n",
       "Omnibus:                      212.848   Durbin-Watson:                   1.979\n",
       "Prob(Omnibus):                  0.000   Jarque-Bera (JB):             1861.689\n",
       "Skew:                          -0.091   Prob(JB):                         0.00\n",
       "Kurtosis:                       7.856   Cond. No.                     1.00e+16\n",
       "==============================================================================\n",
       "\n",
       "Notes:\n",
       "[1] Standard Errors assume that the covariance matrix of the errors is correctly specified.\n",
       "[2] The smallest eigenvalue is 7.63e-23. This might indicate that there are\n",
       "strong multicollinearity problems or that the design matrix is singular.\n",
       "\"\"\""
      ]
     },
     "execution_count": 13,
     "metadata": {},
     "output_type": "execute_result"
    }
   ],
   "source": [
    "# Model summary.\n",
    "rModel2.summary()"
   ]
  },
  {
   "cell_type": "code",
   "execution_count": 14,
   "id": "c94b965f",
   "metadata": {},
   "outputs": [
    {
     "name": "stdout",
     "output_type": "stream",
     "text": [
      "Model Performance\n",
      "Average Error: 4810.2830 degrees.\n",
      "Accuracy = 77.72%.\n"
     ]
    }
   ],
   "source": [
    "# Evaluation of the model.\n",
    "accuracy = evaluate(rModel2, X_test, y_test)"
   ]
  },
  {
   "cell_type": "code",
   "execution_count": 15,
   "id": "94f9ebab",
   "metadata": {},
   "outputs": [
    {
     "data": {
      "text/plain": [
       "Text(0, 0.5, 'Predicted values')"
      ]
     },
     "execution_count": 15,
     "metadata": {},
     "output_type": "execute_result"
    },
    {
     "data": {
      "image/png": "[encoded data removed]",
      "text/plain": [
       "<Figure size 432x288 with 1 Axes>"
      ]
     },
     "metadata": {
      "needs_background": "light"
     },
     "output_type": "display_data"
    }
   ],
   "source": [
    "# Scatter plot of the predictions vs the actual result.\n",
    "plt.scatter(y_test, y_pred)\n",
    "plt.plot(np.unique(y_test), np.poly1d(np.polyfit(y_test, y_pred, 1))(np.unique(y_test)), color='r')\n",
    "plt.title(\"Ordinary Least Squares prediction\")\n",
    "plt.xlabel(\"Actual values\")\n",
    "plt.ylabel(\"Predicted values\")"
   ]
  },
  {
   "cell_type": "markdown",
   "id": "ab6e1b93",
   "metadata": {},
   "source": [
    "## 2) Random forest regressor"
   ]
  },
  {
   "cell_type": "code",
   "execution_count": 16,
   "id": "51f23313",
   "metadata": {},
   "outputs": [],
   "source": [
    "# Spliting data into training and testing set.\n",
    "X = df.drop('VALUE', axis = 1)\n",
    "y = df.VALUE\n",
    "X_train, X_test, y_train, y_test = train_test_split(X, y, test_size=0.20, random_state=42)\n",
    "\n",
    "# Model initialization, fit and predict.\n",
    "RFmodel = RandomForestRegressor(random_state=42)\n",
    "\n",
    "RFmodel.fit(X_train, y_train)\n",
    "\n",
    "y_pred = RFmodel.predict(X_test)"
   ]
  },
  {
   "cell_type": "markdown",
   "id": "df9a6114",
   "metadata": {},
   "source": [
    "#### Default Parameters:\n",
    "- 'bootstrap': True, # Method of selecting samples for training each tree\n",
    "- 'criterion': 'mse',\n",
    "- 'max_depth': None, # Maximum number of levels in tree\n",
    "- 'max_features': 'auto', # Number of features to consider at every split\n",
    "- 'max_leaf_nodes': None,\n",
    "- 'min_impurity_decrease': 0.0,\n",
    "- 'min_impurity_split': None,\n",
    "- 'min_samples_leaf': 1, # Minimum number of samples required at each leaf node\n",
    "- 'min_samples_split': 2, # Minimum number of samples required to split a node\n",
    "- 'min_weight_fraction_leaf': 0.0,\n",
    "- 'n_estimators': 10, # Number of trees in random forest\n",
    "- 'n_jobs': 1,\n",
    "- 'oob_score': False,\n",
    "- 'random_state': 42,\n",
    "- 'verbose': 0,\n",
    "- 'warm_start': False"
   ]
  },
  {
   "cell_type": "code",
   "execution_count": 17,
   "id": "ea82e821",
   "metadata": {},
   "outputs": [
    {
     "name": "stdout",
     "output_type": "stream",
     "text": [
      "27\n"
     ]
    },
    {
     "data": {
      "image/png": "[encoded data removed]",
      "text/plain": [
       "<Figure size 720x720 with 1 Axes>"
      ]
     },
     "metadata": {
      "needs_background": "light"
     },
     "output_type": "display_data"
    }
   ],
   "source": [
    "feature_importance = RFmodel.feature_importances_\n",
    "feature_importance = 100.0 * (feature_importance / feature_importance.max())[:30]\n",
    "sorted_idx = np.argsort(feature_importance)\n",
    "\n",
    "pos = np.arange(sorted_idx.shape[0]) + .5\n",
    "print(pos.size)\n",
    "sorted_idx.size\n",
    "plt.figure(figsize=(10,10))\n",
    "plt.barh(pos, feature_importance[sorted_idx], align='center')\n",
    "plt.yticks(pos, X.columns[sorted_idx])\n",
    "plt.xlabel('Relative Importance')\n",
    "plt.title('Variable Importance')\n",
    "plt.show()"
   ]
  },
  {
   "cell_type": "code",
   "execution_count": 18,
   "id": "71c01e43",
   "metadata": {},
   "outputs": [
    {
     "data": {
      "text/plain": [
       "Text(0, 0.5, 'Predicted values')"
      ]
     },
     "execution_count": 18,
     "metadata": {},
     "output_type": "execute_result"
    },
    {
     "data": {
      "image/png": "[encoded data removed]",
      "text/plain": [
       "<Figure size 432x288 with 1 Axes>"
      ]
     },
     "metadata": {
      "needs_background": "light"
     },
     "output_type": "display_data"
    }
   ],
   "source": [
    "# Scatter plot of the predictions vs the actual result.\n",
    "plt.scatter(y_test, y_pred)\n",
    "plt.plot(np.unique(y_test), np.poly1d(np.polyfit(y_test, y_pred, 1))(np.unique(y_test)), color='r')\n",
    "plt.title(\"Random forest prediction\")\n",
    "plt.xlabel(\"Actual values\")\n",
    "plt.ylabel(\"Predicted values\")"
   ]
  },
  {
   "cell_type": "code",
   "execution_count": 19,
   "id": "acc79c70",
   "metadata": {},
   "outputs": [
    {
     "name": "stdout",
     "output_type": "stream",
     "text": [
      "R2 score: 0.9520453385498967\n",
      "RMSE: 8464.528323698649\n"
     ]
    }
   ],
   "source": [
    "print('R2 score:', metrics.r2_score(y_test, y_pred))\n",
    "print('RMSE:', np.sqrt(metrics.mean_squared_error(y_test, y_pred)))"
   ]
  },
  {
   "cell_type": "code",
   "execution_count": 20,
   "id": "d3ab6434",
   "metadata": {},
   "outputs": [
    {
     "name": "stdout",
     "output_type": "stream",
     "text": [
      "Model Performance\n",
      "Average Error: 4499.2455 degrees.\n",
      "Accuracy = 82.91%.\n"
     ]
    }
   ],
   "source": [
    "# Evaluation of the model.\n",
    "base_accuracy = evaluate(RFmodel, X_test, y_test)"
   ]
  },
  {
   "cell_type": "markdown",
   "id": "00857c7d",
   "metadata": {},
   "source": [
    "## Random forest parameter tuning"
   ]
  },
  {
   "cell_type": "markdown",
   "id": "f5dc5ba5",
   "metadata": {},
   "source": [
    "### Cross validation"
   ]
  },
  {
   "cell_type": "code",
   "execution_count": 21,
   "id": "29bfabf9",
   "metadata": {},
   "outputs": [
    {
     "name": "stdout",
     "output_type": "stream",
     "text": [
      "{'n_estimators': [200, 400, 600, 800, 1000, 1200, 1400, 1600, 1800, 2000], 'max_features': ['auto', 'sqrt'], 'max_depth': [10, 20, 30, 40, 50, 60, 70, 80, 90, 100, 110, None], 'min_samples_split': [2, 5, 10], 'min_samples_leaf': [1, 2, 4], 'bootstrap': [True, False]}\n"
     ]
    }
   ],
   "source": [
    "# K-Fold CV\n",
    "# Preparation of the random grid to search for the best parameters.\n",
    "n_estimators = [int(x) for x in np.linspace(start = 200, stop = 2000, num = 10)]\n",
    "max_features = ['auto', 'sqrt']\n",
    "max_depth = [int(x) for x in np.linspace(10, 110, num = 11)]\n",
    "max_depth.append(None)\n",
    "min_samples_split = [2, 5, 10]\n",
    "min_samples_leaf = [1, 2, 4]\n",
    "bootstrap = [True, False]\n",
    "random_grid = {'n_estimators': n_estimators,\n",
    "               'max_features': max_features,\n",
    "               'max_depth': max_depth,\n",
    "               'min_samples_split': min_samples_split,\n",
    "               'min_samples_leaf': min_samples_leaf,\n",
    "               'bootstrap': bootstrap}\n",
    "print(random_grid)"
   ]
  },
  {
   "cell_type": "code",
   "execution_count": 22,
   "id": "3076bbd6",
   "metadata": {},
   "outputs": [
    {
     "name": "stdout",
     "output_type": "stream",
     "text": [
      "Fitting 3 folds for each of 100 candidates, totalling 300 fits\n"
     ]
    },
    {
     "data": {
      "text/plain": [
       "RandomizedSearchCV(cv=3, estimator=RandomForestRegressor(random_state=42),\n",
       "                   n_iter=100, n_jobs=-1,\n",
       "                   param_distributions={'bootstrap': [True, False],\n",
       "                                        'max_depth': [10, 20, 30, 40, 50, 60,\n",
       "                                                      70, 80, 90, 100, 110,\n",
       "                                                      None],\n",
       "                                        'max_features': ['auto', 'sqrt'],\n",
       "                                        'min_samples_leaf': [1, 2, 4],\n",
       "                                        'min_samples_split': [2, 5, 10],\n",
       "                                        'n_estimators': [200, 400, 600, 800,\n",
       "                                                         1000, 1200, 1400, 1600,\n",
       "                                                         1800, 2000]},\n",
       "                   random_state=42, verbose=2)"
      ]
     },
     "execution_count": 22,
     "metadata": {},
     "output_type": "execute_result"
    }
   ],
   "source": [
    "# Initiating the random search model with 3 fold cross validation and fit.\n",
    "search = RandomizedSearchCV(estimator = RFmodel,\n",
    "                            param_distributions = random_grid,\n",
    "                            n_iter = 100,\n",
    "                            cv = 3,\n",
    "                            verbose=2,\n",
    "                            random_state=42,\n",
    "                            n_jobs = -1)\n",
    "search.fit(X_train, y_train)"
   ]
  },
  {
   "cell_type": "code",
   "execution_count": 23,
   "id": "03ca1355",
   "metadata": {},
   "outputs": [
    {
     "data": {
      "text/plain": [
       "{'n_estimators': 600,\n",
       " 'min_samples_split': 10,\n",
       " 'min_samples_leaf': 2,\n",
       " 'max_features': 'auto',\n",
       " 'max_depth': 100,\n",
       " 'bootstrap': True}"
      ]
     },
     "execution_count": 23,
     "metadata": {},
     "output_type": "execute_result"
    }
   ],
   "source": [
    "# Printing the best parameters.\n",
    "search.best_params_"
   ]
  },
  {
   "cell_type": "code",
   "execution_count": 24,
   "id": "6afbc809",
   "metadata": {},
   "outputs": [
    {
     "name": "stdout",
     "output_type": "stream",
     "text": [
      "Model Performance\n",
      "Average Error: 4428.8057 degrees.\n",
      "Accuracy = 82.98%.\n"
     ]
    }
   ],
   "source": [
    "# Evaluation of the random tuned model.\n",
    "random_accuracy = evaluate(search, X_test, y_test)"
   ]
  },
  {
   "cell_type": "code",
   "execution_count": 25,
   "id": "30f1f8af",
   "metadata": {},
   "outputs": [
    {
     "name": "stdout",
     "output_type": "stream",
     "text": [
      "R2 score: 0.9520453385498967\n",
      "RMSE: 8464.528323698649\n"
     ]
    }
   ],
   "source": [
    "print('R2 score:', metrics.r2_score(y_test, y_pred))\n",
    "print('RMSE:', np.sqrt(metrics.mean_squared_error(y_test, y_pred)))"
   ]
  },
  {
   "cell_type": "code",
   "execution_count": 26,
   "id": "7cc35cc2",
   "metadata": {},
   "outputs": [
    {
     "data": {
      "text/plain": [
       "Text(0, 0.5, 'Predicted values')"
      ]
     },
     "execution_count": 26,
     "metadata": {},
     "output_type": "execute_result"
    },
    {
     "data": {
      "image/png": "[encoded data removed]",
      "text/plain": [
       "<Figure size 432x288 with 1 Axes>"
      ]
     },
     "metadata": {
      "needs_background": "light"
     },
     "output_type": "display_data"
    }
   ],
   "source": [
    "# Scatter plot of the predictions vs the actual result.\n",
    "plt.scatter(y_test, y_pred)\n",
    "plt.plot(np.unique(y_test), np.poly1d(np.polyfit(y_test, y_pred, 1))(np.unique(y_test)), color='r')\n",
    "plt.title(\"Random forest prediction\")\n",
    "plt.xlabel(\"Actual values\")\n",
    "plt.ylabel(\"Predicted values\")"
   ]
  },
  {
   "cell_type": "markdown",
   "id": "ca05ee22",
   "metadata": {},
   "source": [
    "Between the different tested model (standard linear regression, OSL linear regression, default random forest and tuned random forest), tuned random forest do the best prediction."
   ]
  }
 ],
 "metadata": {
  "kernelspec": {
   "display_name": "Python 3 (ipykernel)",
   "language": "python",
   "name": "python3"
  },
  "language_info": {
   "codemirror_mode": {
    "name": "ipython",
    "version": 3
   },
   "file_extension": ".py",
   "mimetype": "text/x-python",
   "name": "python",
   "nbconvert_exporter": "python",
   "pygments_lexer": "ipython3",
   "version": "3.9.7"
  }
 },
 "nbformat": 4,
 "nbformat_minor": 5
}
