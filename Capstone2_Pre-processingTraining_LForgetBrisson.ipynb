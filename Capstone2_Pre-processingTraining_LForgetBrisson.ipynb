{
 "cells": [
  {
   "cell_type": "markdown",
   "id": "24941caa",
   "metadata": {},
   "source": [
    "# Pre-processning and training data development"
   ]
  },
  {
   "cell_type": "markdown",
   "id": "9c123a5b",
   "metadata": {},
   "source": [
    "Capstone 2 problem: What is the evolution of the impact of catastrophic events on the commercial aerial traffic in Canada, between 2001 and 2018?"
   ]
  },
  {
   "cell_type": "code",
   "execution_count": 25,
   "id": "92c394a5",
   "metadata": {},
   "outputs": [],
   "source": [
    "# Importing pertinent packages\n",
    "import pandas as pd\n",
    "from sklearn.model_selection import train_test_split"
   ]
  },
  {
   "cell_type": "code",
   "execution_count": 26,
   "id": "b0f49fb2",
   "metadata": {},
   "outputs": [],
   "source": [
    "# Importing the dataset\n",
    "df = pd.read_csv('merged_df.csv', sep=\",\")"
   ]
  },
  {
   "cell_type": "code",
   "execution_count": 27,
   "id": "38c621c6",
   "metadata": {},
   "outputs": [
    {
     "data": {
      "text/html": [
       "<div>\n",
       "<style scoped>\n",
       "    .dataframe tbody tr th:only-of-type {\n",
       "        vertical-align: middle;\n",
       "    }\n",
       "\n",
       "    .dataframe tbody tr th {\n",
       "        vertical-align: top;\n",
       "    }\n",
       "\n",
       "    .dataframe thead th {\n",
       "        text-align: right;\n",
       "    }\n",
       "</style>\n",
       "<table border=\"1\" class=\"dataframe\">\n",
       "  <thead>\n",
       "    <tr style=\"text-align: right;\">\n",
       "      <th></th>\n",
       "      <th>EVENT_TYPE</th>\n",
       "      <th>VALUE</th>\n",
       "      <th>date</th>\n",
       "      <th>prov_ter</th>\n",
       "    </tr>\n",
       "  </thead>\n",
       "  <tbody>\n",
       "    <tr>\n",
       "      <th>0</th>\n",
       "      <td>Storms and Severe Thunderstorms</td>\n",
       "      <td>49568</td>\n",
       "      <td>2018-12-01</td>\n",
       "      <td>BC</td>\n",
       "    </tr>\n",
       "    <tr>\n",
       "      <th>1</th>\n",
       "      <td>Tornado</td>\n",
       "      <td>89058</td>\n",
       "      <td>2018-09-01</td>\n",
       "      <td>ON</td>\n",
       "    </tr>\n",
       "    <tr>\n",
       "      <th>2</th>\n",
       "      <td>Wildfire</td>\n",
       "      <td>19869</td>\n",
       "      <td>2018-08-01</td>\n",
       "      <td>BC</td>\n",
       "    </tr>\n",
       "    <tr>\n",
       "      <th>3</th>\n",
       "      <td>Flood</td>\n",
       "      <td>4966</td>\n",
       "      <td>2018-08-01</td>\n",
       "      <td>ON</td>\n",
       "    </tr>\n",
       "    <tr>\n",
       "      <th>4</th>\n",
       "      <td>Storms and Severe Thunderstorms</td>\n",
       "      <td>7964</td>\n",
       "      <td>2018-08-01</td>\n",
       "      <td>AB</td>\n",
       "    </tr>\n",
       "  </tbody>\n",
       "</table>\n",
       "</div>"
      ],
      "text/plain": [
       "                        EVENT_TYPE  VALUE        date prov_ter\n",
       "0  Storms and Severe Thunderstorms  49568  2018-12-01       BC\n",
       "1                          Tornado  89058  2018-09-01       ON\n",
       "2                         Wildfire  19869  2018-08-01       BC\n",
       "3                            Flood   4966  2018-08-01       ON\n",
       "4  Storms and Severe Thunderstorms   7964  2018-08-01       AB"
      ]
     },
     "execution_count": 27,
     "metadata": {},
     "output_type": "execute_result"
    }
   ],
   "source": [
    "# Visualizing the dataset\n",
    "df.head()"
   ]
  },
  {
   "cell_type": "code",
   "execution_count": 28,
   "id": "152b6c82",
   "metadata": {},
   "outputs": [
    {
     "data": {
      "text/plain": [
       "(2365, 4)"
      ]
     },
     "execution_count": 28,
     "metadata": {},
     "output_type": "execute_result"
    }
   ],
   "source": [
    "# Visualization of the dataset shape\n",
    "df.shape"
   ]
  },
  {
   "cell_type": "code",
   "execution_count": 29,
   "id": "e8b489aa",
   "metadata": {},
   "outputs": [
    {
     "data": {
      "text/plain": [
       "EVENT_TYPE    object\n",
       "VALUE          int64\n",
       "date          object\n",
       "prov_ter      object\n",
       "dtype: object"
      ]
     },
     "execution_count": 29,
     "metadata": {},
     "output_type": "execute_result"
    }
   ],
   "source": [
    "# Determining datatypes in the dataset\n",
    "df.dtypes"
   ]
  },
  {
   "cell_type": "markdown",
   "id": "f96d1ee4",
   "metadata": {},
   "source": [
    "EVENT_TYPE and prov_ter are categorical values."
   ]
  },
  {
   "cell_type": "code",
   "execution_count": 30,
   "id": "058b2acd",
   "metadata": {},
   "outputs": [],
   "source": [
    "# Getting dummy variables for the categorical values\n",
    "event_type_dummy = pd.get_dummies(df['EVENT_TYPE'])\n",
    "prov_ter_dummy = pd.get_dummies(df['prov_ter'])"
   ]
  },
  {
   "cell_type": "code",
   "execution_count": 31,
   "id": "b4438fb1",
   "metadata": {},
   "outputs": [],
   "source": [
    "# Concatening the dummy variables with the original dataset.\n",
    "df = pd.concat([df, event_type_dummy, prov_ter_dummy], axis=1)"
   ]
  },
  {
   "cell_type": "code",
   "execution_count": 32,
   "id": "65cedaba",
   "metadata": {},
   "outputs": [
    {
     "data": {
      "text/html": [
       "<div>\n",
       "<style scoped>\n",
       "    .dataframe tbody tr th:only-of-type {\n",
       "        vertical-align: middle;\n",
       "    }\n",
       "\n",
       "    .dataframe tbody tr th {\n",
       "        vertical-align: top;\n",
       "    }\n",
       "\n",
       "    .dataframe thead th {\n",
       "        text-align: right;\n",
       "    }\n",
       "</style>\n",
       "<table border=\"1\" class=\"dataframe\">\n",
       "  <thead>\n",
       "    <tr style=\"text-align: right;\">\n",
       "      <th></th>\n",
       "      <th>EVENT_TYPE</th>\n",
       "      <th>VALUE</th>\n",
       "      <th>date</th>\n",
       "      <th>prov_ter</th>\n",
       "      <th>Avalanche</th>\n",
       "      <th>Drought</th>\n",
       "      <th>Earthquake</th>\n",
       "      <th>Flood</th>\n",
       "      <th>Heat Event</th>\n",
       "      <th>Hurricane / Typhoon / Tropical Storm</th>\n",
       "      <th>...</th>\n",
       "      <th>MB</th>\n",
       "      <th>NB</th>\n",
       "      <th>NFL</th>\n",
       "      <th>NS</th>\n",
       "      <th>NWT</th>\n",
       "      <th>ON</th>\n",
       "      <th>QC</th>\n",
       "      <th>SK</th>\n",
       "      <th>YK</th>\n",
       "      <th>YU</th>\n",
       "    </tr>\n",
       "  </thead>\n",
       "  <tbody>\n",
       "    <tr>\n",
       "      <th>0</th>\n",
       "      <td>Storms and Severe Thunderstorms</td>\n",
       "      <td>49568</td>\n",
       "      <td>2018-12-01</td>\n",
       "      <td>BC</td>\n",
       "      <td>0</td>\n",
       "      <td>0</td>\n",
       "      <td>0</td>\n",
       "      <td>0</td>\n",
       "      <td>0</td>\n",
       "      <td>0</td>\n",
       "      <td>...</td>\n",
       "      <td>0</td>\n",
       "      <td>0</td>\n",
       "      <td>0</td>\n",
       "      <td>0</td>\n",
       "      <td>0</td>\n",
       "      <td>0</td>\n",
       "      <td>0</td>\n",
       "      <td>0</td>\n",
       "      <td>0</td>\n",
       "      <td>0</td>\n",
       "    </tr>\n",
       "    <tr>\n",
       "      <th>1</th>\n",
       "      <td>Tornado</td>\n",
       "      <td>89058</td>\n",
       "      <td>2018-09-01</td>\n",
       "      <td>ON</td>\n",
       "      <td>0</td>\n",
       "      <td>0</td>\n",
       "      <td>0</td>\n",
       "      <td>0</td>\n",
       "      <td>0</td>\n",
       "      <td>0</td>\n",
       "      <td>...</td>\n",
       "      <td>0</td>\n",
       "      <td>0</td>\n",
       "      <td>0</td>\n",
       "      <td>0</td>\n",
       "      <td>0</td>\n",
       "      <td>1</td>\n",
       "      <td>0</td>\n",
       "      <td>0</td>\n",
       "      <td>0</td>\n",
       "      <td>0</td>\n",
       "    </tr>\n",
       "    <tr>\n",
       "      <th>2</th>\n",
       "      <td>Wildfire</td>\n",
       "      <td>19869</td>\n",
       "      <td>2018-08-01</td>\n",
       "      <td>BC</td>\n",
       "      <td>0</td>\n",
       "      <td>0</td>\n",
       "      <td>0</td>\n",
       "      <td>0</td>\n",
       "      <td>0</td>\n",
       "      <td>0</td>\n",
       "      <td>...</td>\n",
       "      <td>0</td>\n",
       "      <td>0</td>\n",
       "      <td>0</td>\n",
       "      <td>0</td>\n",
       "      <td>0</td>\n",
       "      <td>0</td>\n",
       "      <td>0</td>\n",
       "      <td>0</td>\n",
       "      <td>0</td>\n",
       "      <td>0</td>\n",
       "    </tr>\n",
       "    <tr>\n",
       "      <th>3</th>\n",
       "      <td>Flood</td>\n",
       "      <td>4966</td>\n",
       "      <td>2018-08-01</td>\n",
       "      <td>ON</td>\n",
       "      <td>0</td>\n",
       "      <td>0</td>\n",
       "      <td>0</td>\n",
       "      <td>1</td>\n",
       "      <td>0</td>\n",
       "      <td>0</td>\n",
       "      <td>...</td>\n",
       "      <td>0</td>\n",
       "      <td>0</td>\n",
       "      <td>0</td>\n",
       "      <td>0</td>\n",
       "      <td>0</td>\n",
       "      <td>1</td>\n",
       "      <td>0</td>\n",
       "      <td>0</td>\n",
       "      <td>0</td>\n",
       "      <td>0</td>\n",
       "    </tr>\n",
       "    <tr>\n",
       "      <th>4</th>\n",
       "      <td>Storms and Severe Thunderstorms</td>\n",
       "      <td>7964</td>\n",
       "      <td>2018-08-01</td>\n",
       "      <td>AB</td>\n",
       "      <td>0</td>\n",
       "      <td>0</td>\n",
       "      <td>0</td>\n",
       "      <td>0</td>\n",
       "      <td>0</td>\n",
       "      <td>0</td>\n",
       "      <td>...</td>\n",
       "      <td>0</td>\n",
       "      <td>0</td>\n",
       "      <td>0</td>\n",
       "      <td>0</td>\n",
       "      <td>0</td>\n",
       "      <td>0</td>\n",
       "      <td>0</td>\n",
       "      <td>0</td>\n",
       "      <td>0</td>\n",
       "      <td>0</td>\n",
       "    </tr>\n",
       "  </tbody>\n",
       "</table>\n",
       "<p>5 rows × 31 columns</p>\n",
       "</div>"
      ],
      "text/plain": [
       "                        EVENT_TYPE  VALUE        date prov_ter  Avalanche  \\\n",
       "0  Storms and Severe Thunderstorms  49568  2018-12-01       BC          0   \n",
       "1                          Tornado  89058  2018-09-01       ON          0   \n",
       "2                         Wildfire  19869  2018-08-01       BC          0   \n",
       "3                            Flood   4966  2018-08-01       ON          0   \n",
       "4  Storms and Severe Thunderstorms   7964  2018-08-01       AB          0   \n",
       "\n",
       "   Drought  Earthquake  Flood  Heat Event  \\\n",
       "0        0           0      0           0   \n",
       "1        0           0      0           0   \n",
       "2        0           0      0           0   \n",
       "3        0           0      1           0   \n",
       "4        0           0      0           0   \n",
       "\n",
       "   Hurricane / Typhoon / Tropical Storm  ...  MB  NB  NFL  NS  NWT  ON  QC  \\\n",
       "0                                     0  ...   0   0    0   0    0   0   0   \n",
       "1                                     0  ...   0   0    0   0    0   1   0   \n",
       "2                                     0  ...   0   0    0   0    0   0   0   \n",
       "3                                     0  ...   0   0    0   0    0   1   0   \n",
       "4                                     0  ...   0   0    0   0    0   0   0   \n",
       "\n",
       "   SK  YK  YU  \n",
       "0   0   0   0  \n",
       "1   0   0   0  \n",
       "2   0   0   0  \n",
       "3   0   0   0  \n",
       "4   0   0   0  \n",
       "\n",
       "[5 rows x 31 columns]"
      ]
     },
     "execution_count": 32,
     "metadata": {},
     "output_type": "execute_result"
    }
   ],
   "source": [
    "# Visualizing the new version of the dataset\n",
    "df.head()"
   ]
  },
  {
   "cell_type": "markdown",
   "id": "c7f139d1",
   "metadata": {},
   "source": [
    "There is no need to standardize the aerial trafic value since there is only one numeric type of data in the data set."
   ]
  },
  {
   "cell_type": "code",
   "execution_count": 34,
   "id": "90d9fa36",
   "metadata": {},
   "outputs": [],
   "source": [
    "# Spliting data into training and testing set\n",
    "X = df.drop('VALUE', axis = 1)\n",
    "y = df.VALUE\n",
    "\n",
    "X_train, X_test, y_train, y_test = train_test_split(X, y, test_size=0.25, random_state=42)"
   ]
  }
 ],
 "metadata": {
  "kernelspec": {
   "display_name": "Python 3 (ipykernel)",
   "language": "python",
   "name": "python3"
  },
  "language_info": {
   "codemirror_mode": {
    "name": "ipython",
    "version": 3
   },
   "file_extension": ".py",
   "mimetype": "text/x-python",
   "name": "python",
   "nbconvert_exporter": "python",
   "pygments_lexer": "ipython3",
   "version": "3.9.7"
  }
 },
 "nbformat": 4,
 "nbformat_minor": 5
}
