{
 "cells": [
  {
   "cell_type": "markdown",
   "id": "54db96e3",
   "metadata": {},
   "source": [
    "# Exploratory data analysis - EDA"
   ]
  },
  {
   "cell_type": "markdown",
   "id": "30dede5e",
   "metadata": {},
   "source": [
    "Capstone 2 problem: What is the evolution of the impact of catastrophic events on the commercial aerial traffic in Canada, between 2001 and 2018?"
   ]
  },
  {
   "cell_type": "raw",
   "id": "20e4d306",
   "metadata": {},
   "source": [
    "3 datasets were prepared during the data wrangling process: \n",
    "    - disaster\n",
    "    - airline_total\n",
    "    - airline_local\n",
    "The first one contain the information relative to the natural disaster recorded in Canada during the period between 2001 and 2018.\n",
    "The two other datasets refer to aerial traffic information, where the total aerial movements for Canada is recorded monthly\n",
    "for the period between 2001 and 2018 in airline_total, and where the aerial movements is recorded for each airport in Canada\n",
    "during the same period in airline_local."
   ]
  },
  {
   "cell_type": "code",
   "execution_count": 572,
   "id": "72f71a14",
   "metadata": {},
   "outputs": [],
   "source": [
    "# Importing matplotlib.pyplot, seaborn and pandas. \n",
    "import matplotlib.pyplot as plt\n",
    "import matplotlib.ticker as mtick\n",
    "from matplotlib import cm\n",
    "import seaborn as sns\n",
    "import pandas as pd\n",
    "import numpy as np\n",
    "\n",
    "# Defining plot style\n",
    "sns.set(style='ticks')\n",
    "\n",
    "# loading the datasets previously cleaned. \n",
    "disaster = pd.read_csv('disaster_cleaned.csv', sep=\",\")\n",
    "airline_total = pd.read_csv('airline_total_cleaned.csv', sep=\",\")\n",
    "airline_local = pd.read_csv('airline_local_cleaned.csv', sep=\",\")"
   ]
  },
  {
   "cell_type": "markdown",
   "id": "cd3b9d11",
   "metadata": {},
   "source": [
    "### Visualization of the cleaned datasets prepared in the data wrangling step."
   ]
  },
  {
   "cell_type": "code",
   "execution_count": 573,
   "id": "191f23a0",
   "metadata": {},
   "outputs": [
    {
     "data": {
      "text/html": [
       "<div>\n",
       "<style scoped>\n",
       "    .dataframe tbody tr th:only-of-type {\n",
       "        vertical-align: middle;\n",
       "    }\n",
       "\n",
       "    .dataframe tbody tr th {\n",
       "        vertical-align: top;\n",
       "    }\n",
       "\n",
       "    .dataframe thead th {\n",
       "        text-align: right;\n",
       "    }\n",
       "</style>\n",
       "<table border=\"1\" class=\"dataframe\">\n",
       "  <thead>\n",
       "    <tr style=\"text-align: right;\">\n",
       "      <th></th>\n",
       "      <th>EVENT_CATEGORY</th>\n",
       "      <th>EVENT_SUBGROUP</th>\n",
       "      <th>EVENT_TYPE</th>\n",
       "      <th>PLACE</th>\n",
       "      <th>EVENT_START_DATE</th>\n",
       "      <th>COMMENTS</th>\n",
       "      <th>FATALITIES</th>\n",
       "      <th>INJURED_/_INFECTED</th>\n",
       "      <th>EVACUATED</th>\n",
       "      <th>ESTIMATED_TOTAL_COST</th>\n",
       "      <th>NORMALIZED_TOTAL_COST</th>\n",
       "      <th>EVENT_END_DATE</th>\n",
       "      <th>FEDERAL_DFAA_PAYMENTS</th>\n",
       "      <th>PROVINCIAL_DEPARTMENT_PAYMENTS</th>\n",
       "      <th>INSURANCE_PAYMENTS</th>\n",
       "      <th>UTILITY_-_PEOPLE_AFFECTED</th>\n",
       "      <th>year</th>\n",
       "      <th>month</th>\n",
       "    </tr>\n",
       "  </thead>\n",
       "  <tbody>\n",
       "    <tr>\n",
       "      <th>0</th>\n",
       "      <td>Disaster</td>\n",
       "      <td>Meteorological - Hydrological</td>\n",
       "      <td>Storms and Severe Thunderstorms</td>\n",
       "      <td>British Columbia</td>\n",
       "      <td>2018-12-22</td>\n",
       "      <td>A powerful windstorm caused significant damage...</td>\n",
       "      <td>1.0</td>\n",
       "      <td>NaN</td>\n",
       "      <td>NaN</td>\n",
       "      <td>52765000.0</td>\n",
       "      <td>NaN</td>\n",
       "      <td>12/22/2018 12:00:00 AM</td>\n",
       "      <td>NaN</td>\n",
       "      <td>NaN</td>\n",
       "      <td>52765000.0</td>\n",
       "      <td>400000.0</td>\n",
       "      <td>2018</td>\n",
       "      <td>12</td>\n",
       "    </tr>\n",
       "    <tr>\n",
       "      <th>1</th>\n",
       "      <td>Disaster</td>\n",
       "      <td>Meteorological - Hydrological</td>\n",
       "      <td>Tornado</td>\n",
       "      <td>National Capital Region</td>\n",
       "      <td>2018-09-21</td>\n",
       "      <td>On September 21st, 6 tornadoes touched down in...</td>\n",
       "      <td>NaN</td>\n",
       "      <td>NaN</td>\n",
       "      <td>NaN</td>\n",
       "      <td>NaN</td>\n",
       "      <td>NaN</td>\n",
       "      <td>NaN</td>\n",
       "      <td>NaN</td>\n",
       "      <td>NaN</td>\n",
       "      <td>NaN</td>\n",
       "      <td>NaN</td>\n",
       "      <td>2018</td>\n",
       "      <td>9</td>\n",
       "    </tr>\n",
       "    <tr>\n",
       "      <th>2</th>\n",
       "      <td>Disaster</td>\n",
       "      <td>Meteorological - Hydrological</td>\n",
       "      <td>Wildfire</td>\n",
       "      <td>British Columbia</td>\n",
       "      <td>2018-08-15</td>\n",
       "      <td>British Columbia and its interior and south co...</td>\n",
       "      <td>NaN</td>\n",
       "      <td>NaN</td>\n",
       "      <td>NaN</td>\n",
       "      <td>NaN</td>\n",
       "      <td>NaN</td>\n",
       "      <td>NaN</td>\n",
       "      <td>NaN</td>\n",
       "      <td>NaN</td>\n",
       "      <td>NaN</td>\n",
       "      <td>NaN</td>\n",
       "      <td>2018</td>\n",
       "      <td>8</td>\n",
       "    </tr>\n",
       "    <tr>\n",
       "      <th>3</th>\n",
       "      <td>Disaster</td>\n",
       "      <td>Meteorological - Hydrological</td>\n",
       "      <td>Flood</td>\n",
       "      <td>Toronto</td>\n",
       "      <td>2018-08-07</td>\n",
       "      <td>A severe overnight storm produced over 70 mm o...</td>\n",
       "      <td>NaN</td>\n",
       "      <td>NaN</td>\n",
       "      <td>NaN</td>\n",
       "      <td>NaN</td>\n",
       "      <td>NaN</td>\n",
       "      <td>NaN</td>\n",
       "      <td>NaN</td>\n",
       "      <td>NaN</td>\n",
       "      <td>NaN</td>\n",
       "      <td>NaN</td>\n",
       "      <td>2018</td>\n",
       "      <td>8</td>\n",
       "    </tr>\n",
       "    <tr>\n",
       "      <th>4</th>\n",
       "      <td>Disaster</td>\n",
       "      <td>Meteorological - Hydrological</td>\n",
       "      <td>Storms and Severe Thunderstorms</td>\n",
       "      <td>Southern Alberta</td>\n",
       "      <td>2018-08-01</td>\n",
       "      <td>A hail storm struck Calgary on July 23rd which...</td>\n",
       "      <td>NaN</td>\n",
       "      <td>NaN</td>\n",
       "      <td>NaN</td>\n",
       "      <td>NaN</td>\n",
       "      <td>NaN</td>\n",
       "      <td>NaN</td>\n",
       "      <td>NaN</td>\n",
       "      <td>NaN</td>\n",
       "      <td>NaN</td>\n",
       "      <td>NaN</td>\n",
       "      <td>2018</td>\n",
       "      <td>8</td>\n",
       "    </tr>\n",
       "  </tbody>\n",
       "</table>\n",
       "</div>"
      ],
      "text/plain": [
       "  EVENT_CATEGORY                 EVENT_SUBGROUP  \\\n",
       "0       Disaster  Meteorological - Hydrological   \n",
       "1       Disaster  Meteorological - Hydrological   \n",
       "2       Disaster  Meteorological - Hydrological   \n",
       "3       Disaster  Meteorological - Hydrological   \n",
       "4       Disaster  Meteorological - Hydrological   \n",
       "\n",
       "                        EVENT_TYPE                    PLACE EVENT_START_DATE  \\\n",
       "0  Storms and Severe Thunderstorms         British Columbia       2018-12-22   \n",
       "1                          Tornado  National Capital Region       2018-09-21   \n",
       "2                         Wildfire         British Columbia       2018-08-15   \n",
       "3                            Flood                  Toronto       2018-08-07   \n",
       "4  Storms and Severe Thunderstorms         Southern Alberta       2018-08-01   \n",
       "\n",
       "                                            COMMENTS  FATALITIES  \\\n",
       "0  A powerful windstorm caused significant damage...         1.0   \n",
       "1  On September 21st, 6 tornadoes touched down in...         NaN   \n",
       "2  British Columbia and its interior and south co...         NaN   \n",
       "3  A severe overnight storm produced over 70 mm o...         NaN   \n",
       "4  A hail storm struck Calgary on July 23rd which...         NaN   \n",
       "\n",
       "   INJURED_/_INFECTED  EVACUATED  ESTIMATED_TOTAL_COST  NORMALIZED_TOTAL_COST  \\\n",
       "0                 NaN        NaN            52765000.0                    NaN   \n",
       "1                 NaN        NaN                   NaN                    NaN   \n",
       "2                 NaN        NaN                   NaN                    NaN   \n",
       "3                 NaN        NaN                   NaN                    NaN   \n",
       "4                 NaN        NaN                   NaN                    NaN   \n",
       "\n",
       "           EVENT_END_DATE  FEDERAL_DFAA_PAYMENTS  \\\n",
       "0  12/22/2018 12:00:00 AM                    NaN   \n",
       "1                     NaN                    NaN   \n",
       "2                     NaN                    NaN   \n",
       "3                     NaN                    NaN   \n",
       "4                     NaN                    NaN   \n",
       "\n",
       "   PROVINCIAL_DEPARTMENT_PAYMENTS  INSURANCE_PAYMENTS  \\\n",
       "0                             NaN          52765000.0   \n",
       "1                             NaN                 NaN   \n",
       "2                             NaN                 NaN   \n",
       "3                             NaN                 NaN   \n",
       "4                             NaN                 NaN   \n",
       "\n",
       "   UTILITY_-_PEOPLE_AFFECTED  year  month  \n",
       "0                   400000.0  2018     12  \n",
       "1                        NaN  2018      9  \n",
       "2                        NaN  2018      8  \n",
       "3                        NaN  2018      8  \n",
       "4                        NaN  2018      8  "
      ]
     },
     "execution_count": 573,
     "metadata": {},
     "output_type": "execute_result"
    }
   ],
   "source": [
    "# Visualizing the cleaned disaster dataset\n",
    "disaster.head()"
   ]
  },
  {
   "cell_type": "code",
   "execution_count": 574,
   "id": "c53f98b4",
   "metadata": {},
   "outputs": [
    {
     "data": {
      "text/html": [
       "<div>\n",
       "<style scoped>\n",
       "    .dataframe tbody tr th:only-of-type {\n",
       "        vertical-align: middle;\n",
       "    }\n",
       "\n",
       "    .dataframe tbody tr th {\n",
       "        vertical-align: top;\n",
       "    }\n",
       "\n",
       "    .dataframe thead th {\n",
       "        text-align: right;\n",
       "    }\n",
       "</style>\n",
       "<table border=\"1\" class=\"dataframe\">\n",
       "  <thead>\n",
       "    <tr style=\"text-align: right;\">\n",
       "      <th></th>\n",
       "      <th>REF_DATE</th>\n",
       "      <th>Airports</th>\n",
       "      <th>Class_of_operation</th>\n",
       "      <th>Peak_hour_and_peak_day_of_movements</th>\n",
       "      <th>VALUE</th>\n",
       "      <th>year</th>\n",
       "      <th>month</th>\n",
       "    </tr>\n",
       "  </thead>\n",
       "  <tbody>\n",
       "    <tr>\n",
       "      <th>0</th>\n",
       "      <td>2001-02-01</td>\n",
       "      <td>Total, all airports</td>\n",
       "      <td>Total, itinerant and local movements</td>\n",
       "      <td>Number of movements</td>\n",
       "      <td>335254</td>\n",
       "      <td>2001</td>\n",
       "      <td>2</td>\n",
       "    </tr>\n",
       "    <tr>\n",
       "      <th>1</th>\n",
       "      <td>2001-03-01</td>\n",
       "      <td>Total, all airports</td>\n",
       "      <td>Total, itinerant and local movements</td>\n",
       "      <td>Number of movements</td>\n",
       "      <td>418483</td>\n",
       "      <td>2001</td>\n",
       "      <td>3</td>\n",
       "    </tr>\n",
       "    <tr>\n",
       "      <th>2</th>\n",
       "      <td>2001-04-01</td>\n",
       "      <td>Total, all airports</td>\n",
       "      <td>Total, itinerant and local movements</td>\n",
       "      <td>Number of movements</td>\n",
       "      <td>424343</td>\n",
       "      <td>2001</td>\n",
       "      <td>4</td>\n",
       "    </tr>\n",
       "    <tr>\n",
       "      <th>3</th>\n",
       "      <td>2001-05-01</td>\n",
       "      <td>Total, all airports</td>\n",
       "      <td>Total, itinerant and local movements</td>\n",
       "      <td>Number of movements</td>\n",
       "      <td>460960</td>\n",
       "      <td>2001</td>\n",
       "      <td>5</td>\n",
       "    </tr>\n",
       "    <tr>\n",
       "      <th>4</th>\n",
       "      <td>2001-06-01</td>\n",
       "      <td>Total, all airports</td>\n",
       "      <td>Total, itinerant and local movements</td>\n",
       "      <td>Number of movements</td>\n",
       "      <td>465684</td>\n",
       "      <td>2001</td>\n",
       "      <td>6</td>\n",
       "    </tr>\n",
       "  </tbody>\n",
       "</table>\n",
       "</div>"
      ],
      "text/plain": [
       "     REF_DATE             Airports                    Class_of_operation  \\\n",
       "0  2001-02-01  Total, all airports  Total, itinerant and local movements   \n",
       "1  2001-03-01  Total, all airports  Total, itinerant and local movements   \n",
       "2  2001-04-01  Total, all airports  Total, itinerant and local movements   \n",
       "3  2001-05-01  Total, all airports  Total, itinerant and local movements   \n",
       "4  2001-06-01  Total, all airports  Total, itinerant and local movements   \n",
       "\n",
       "  Peak_hour_and_peak_day_of_movements   VALUE  year  month  \n",
       "0                 Number of movements  335254  2001      2  \n",
       "1                 Number of movements  418483  2001      3  \n",
       "2                 Number of movements  424343  2001      4  \n",
       "3                 Number of movements  460960  2001      5  \n",
       "4                 Number of movements  465684  2001      6  "
      ]
     },
     "execution_count": 574,
     "metadata": {},
     "output_type": "execute_result"
    }
   ],
   "source": [
    "# Visualizing the cleaned airline_total dataset\n",
    "airline_total.head()"
   ]
  },
  {
   "cell_type": "code",
   "execution_count": 575,
   "id": "d996331e",
   "metadata": {},
   "outputs": [
    {
     "data": {
      "text/html": [
       "<div>\n",
       "<style scoped>\n",
       "    .dataframe tbody tr th:only-of-type {\n",
       "        vertical-align: middle;\n",
       "    }\n",
       "\n",
       "    .dataframe tbody tr th {\n",
       "        vertical-align: top;\n",
       "    }\n",
       "\n",
       "    .dataframe thead th {\n",
       "        text-align: right;\n",
       "    }\n",
       "</style>\n",
       "<table border=\"1\" class=\"dataframe\">\n",
       "  <thead>\n",
       "    <tr style=\"text-align: right;\">\n",
       "      <th></th>\n",
       "      <th>REF_DATE</th>\n",
       "      <th>Airports</th>\n",
       "      <th>Class_of_operation</th>\n",
       "      <th>Peak_hour_and_peak_day_of_movements</th>\n",
       "      <th>VALUE</th>\n",
       "      <th>year</th>\n",
       "      <th>month</th>\n",
       "    </tr>\n",
       "  </thead>\n",
       "  <tbody>\n",
       "    <tr>\n",
       "      <th>0</th>\n",
       "      <td>2001-02-01</td>\n",
       "      <td>Abbotsford, British Columbia</td>\n",
       "      <td>Total, itinerant and local movements</td>\n",
       "      <td>Number of movements</td>\n",
       "      <td>10500</td>\n",
       "      <td>2001</td>\n",
       "      <td>2</td>\n",
       "    </tr>\n",
       "    <tr>\n",
       "      <th>1</th>\n",
       "      <td>2001-02-01</td>\n",
       "      <td>Boundary Bay, British Columbia</td>\n",
       "      <td>Total, itinerant and local movements</td>\n",
       "      <td>Number of movements</td>\n",
       "      <td>17047</td>\n",
       "      <td>2001</td>\n",
       "      <td>2</td>\n",
       "    </tr>\n",
       "    <tr>\n",
       "      <th>2</th>\n",
       "      <td>2001-02-01</td>\n",
       "      <td>Calgary International, Alberta</td>\n",
       "      <td>Total, itinerant and local movements</td>\n",
       "      <td>Number of movements</td>\n",
       "      <td>17753</td>\n",
       "      <td>2001</td>\n",
       "      <td>2</td>\n",
       "    </tr>\n",
       "    <tr>\n",
       "      <th>3</th>\n",
       "      <td>2001-02-01</td>\n",
       "      <td>Calgary/Springbank, Alberta</td>\n",
       "      <td>Total, itinerant and local movements</td>\n",
       "      <td>Number of movements</td>\n",
       "      <td>10772</td>\n",
       "      <td>2001</td>\n",
       "      <td>2</td>\n",
       "    </tr>\n",
       "    <tr>\n",
       "      <th>4</th>\n",
       "      <td>2001-02-01</td>\n",
       "      <td>Chicoutimi/St-Honoré, Quebec</td>\n",
       "      <td>Total, itinerant and local movements</td>\n",
       "      <td>Number of movements</td>\n",
       "      <td>2198</td>\n",
       "      <td>2001</td>\n",
       "      <td>2</td>\n",
       "    </tr>\n",
       "  </tbody>\n",
       "</table>\n",
       "</div>"
      ],
      "text/plain": [
       "     REF_DATE                        Airports  \\\n",
       "0  2001-02-01    Abbotsford, British Columbia   \n",
       "1  2001-02-01  Boundary Bay, British Columbia   \n",
       "2  2001-02-01  Calgary International, Alberta   \n",
       "3  2001-02-01     Calgary/Springbank, Alberta   \n",
       "4  2001-02-01    Chicoutimi/St-Honoré, Quebec   \n",
       "\n",
       "                     Class_of_operation Peak_hour_and_peak_day_of_movements  \\\n",
       "0  Total, itinerant and local movements                 Number of movements   \n",
       "1  Total, itinerant and local movements                 Number of movements   \n",
       "2  Total, itinerant and local movements                 Number of movements   \n",
       "3  Total, itinerant and local movements                 Number of movements   \n",
       "4  Total, itinerant and local movements                 Number of movements   \n",
       "\n",
       "   VALUE  year  month  \n",
       "0  10500  2001      2  \n",
       "1  17047  2001      2  \n",
       "2  17753  2001      2  \n",
       "3  10772  2001      2  \n",
       "4   2198  2001      2  "
      ]
     },
     "execution_count": 575,
     "metadata": {},
     "output_type": "execute_result"
    }
   ],
   "source": [
    "# Visualizing the cleaned airline_local dataset\n",
    "airline_local.head()"
   ]
  },
  {
   "cell_type": "markdown",
   "id": "47fc36f2",
   "metadata": {},
   "source": [
    "### Focus on the disaster dataset exploration."
   ]
  },
  {
   "cell_type": "code",
   "execution_count": 576,
   "id": "3a5f304e",
   "metadata": {},
   "outputs": [
    {
     "data": {
      "text/html": [
       "<div>\n",
       "<style scoped>\n",
       "    .dataframe tbody tr th:only-of-type {\n",
       "        vertical-align: middle;\n",
       "    }\n",
       "\n",
       "    .dataframe tbody tr th {\n",
       "        vertical-align: top;\n",
       "    }\n",
       "\n",
       "    .dataframe thead th {\n",
       "        text-align: right;\n",
       "    }\n",
       "</style>\n",
       "<table border=\"1\" class=\"dataframe\">\n",
       "  <thead>\n",
       "    <tr style=\"text-align: right;\">\n",
       "      <th></th>\n",
       "      <th>count</th>\n",
       "      <th>mean</th>\n",
       "      <th>std</th>\n",
       "      <th>min</th>\n",
       "      <th>25%</th>\n",
       "      <th>50%</th>\n",
       "      <th>75%</th>\n",
       "      <th>max</th>\n",
       "    </tr>\n",
       "  </thead>\n",
       "  <tbody>\n",
       "    <tr>\n",
       "      <th>FATALITIES</th>\n",
       "      <td>158.0</td>\n",
       "      <td>5.126582e+00</td>\n",
       "      <td>4.240474e+01</td>\n",
       "      <td>0.0</td>\n",
       "      <td>0.00</td>\n",
       "      <td>0.0</td>\n",
       "      <td>0.000000e+00</td>\n",
       "      <td>4.550000e+02</td>\n",
       "    </tr>\n",
       "    <tr>\n",
       "      <th>INJURED_/_INFECTED</th>\n",
       "      <td>141.0</td>\n",
       "      <td>1.872340e+00</td>\n",
       "      <td>1.114633e+01</td>\n",
       "      <td>0.0</td>\n",
       "      <td>0.00</td>\n",
       "      <td>0.0</td>\n",
       "      <td>0.000000e+00</td>\n",
       "      <td>1.000000e+02</td>\n",
       "    </tr>\n",
       "    <tr>\n",
       "      <th>EVACUATED</th>\n",
       "      <td>164.0</td>\n",
       "      <td>2.265878e+03</td>\n",
       "      <td>1.083299e+04</td>\n",
       "      <td>0.0</td>\n",
       "      <td>0.00</td>\n",
       "      <td>269.0</td>\n",
       "      <td>1.000000e+03</td>\n",
       "      <td>1.000000e+05</td>\n",
       "    </tr>\n",
       "    <tr>\n",
       "      <th>ESTIMATED_TOTAL_COST</th>\n",
       "      <td>196.0</td>\n",
       "      <td>7.877261e+07</td>\n",
       "      <td>3.697527e+08</td>\n",
       "      <td>0.0</td>\n",
       "      <td>0.00</td>\n",
       "      <td>0.0</td>\n",
       "      <td>1.805200e+07</td>\n",
       "      <td>4.068678e+09</td>\n",
       "    </tr>\n",
       "    <tr>\n",
       "      <th>NORMALIZED_TOTAL_COST</th>\n",
       "      <td>190.0</td>\n",
       "      <td>3.861121e+06</td>\n",
       "      <td>1.793540e+07</td>\n",
       "      <td>0.0</td>\n",
       "      <td>0.00</td>\n",
       "      <td>0.0</td>\n",
       "      <td>8.806147e+05</td>\n",
       "      <td>1.901251e+08</td>\n",
       "    </tr>\n",
       "    <tr>\n",
       "      <th>FEDERAL_DFAA_PAYMENTS</th>\n",
       "      <td>54.0</td>\n",
       "      <td>5.960103e+07</td>\n",
       "      <td>1.749608e+08</td>\n",
       "      <td>0.0</td>\n",
       "      <td>1527811.00</td>\n",
       "      <td>8165152.0</td>\n",
       "      <td>2.476300e+07</td>\n",
       "      <td>1.015742e+09</td>\n",
       "    </tr>\n",
       "    <tr>\n",
       "      <th>PROVINCIAL_DEPARTMENT_PAYMENTS</th>\n",
       "      <td>12.0</td>\n",
       "      <td>6.184578e+07</td>\n",
       "      <td>1.108597e+08</td>\n",
       "      <td>19779.0</td>\n",
       "      <td>601707.25</td>\n",
       "      <td>1150000.0</td>\n",
       "      <td>5.908750e+07</td>\n",
       "      <td>3.000000e+08</td>\n",
       "    </tr>\n",
       "    <tr>\n",
       "      <th>INSURANCE_PAYMENTS</th>\n",
       "      <td>43.0</td>\n",
       "      <td>2.676996e+08</td>\n",
       "      <td>6.015945e+08</td>\n",
       "      <td>123864.0</td>\n",
       "      <td>36940000.00</td>\n",
       "      <td>96183000.0</td>\n",
       "      <td>1.731560e+08</td>\n",
       "      <td>3.600000e+09</td>\n",
       "    </tr>\n",
       "    <tr>\n",
       "      <th>UTILITY_-_PEOPLE_AFFECTED</th>\n",
       "      <td>142.0</td>\n",
       "      <td>5.388795e+04</td>\n",
       "      <td>1.687647e+05</td>\n",
       "      <td>0.0</td>\n",
       "      <td>0.00</td>\n",
       "      <td>0.0</td>\n",
       "      <td>4.500000e+03</td>\n",
       "      <td>1.500000e+06</td>\n",
       "    </tr>\n",
       "    <tr>\n",
       "      <th>year</th>\n",
       "      <td>229.0</td>\n",
       "      <td>2.009808e+03</td>\n",
       "      <td>4.623332e+00</td>\n",
       "      <td>2001.0</td>\n",
       "      <td>2007.00</td>\n",
       "      <td>2009.0</td>\n",
       "      <td>2.014000e+03</td>\n",
       "      <td>2.018000e+03</td>\n",
       "    </tr>\n",
       "    <tr>\n",
       "      <th>month</th>\n",
       "      <td>229.0</td>\n",
       "      <td>6.296943e+00</td>\n",
       "      <td>2.365512e+00</td>\n",
       "      <td>1.0</td>\n",
       "      <td>5.00</td>\n",
       "      <td>6.0</td>\n",
       "      <td>7.000000e+00</td>\n",
       "      <td>1.200000e+01</td>\n",
       "    </tr>\n",
       "  </tbody>\n",
       "</table>\n",
       "</div>"
      ],
      "text/plain": [
       "                                count          mean           std       min  \\\n",
       "FATALITIES                      158.0  5.126582e+00  4.240474e+01       0.0   \n",
       "INJURED_/_INFECTED              141.0  1.872340e+00  1.114633e+01       0.0   \n",
       "EVACUATED                       164.0  2.265878e+03  1.083299e+04       0.0   \n",
       "ESTIMATED_TOTAL_COST            196.0  7.877261e+07  3.697527e+08       0.0   \n",
       "NORMALIZED_TOTAL_COST           190.0  3.861121e+06  1.793540e+07       0.0   \n",
       "FEDERAL_DFAA_PAYMENTS            54.0  5.960103e+07  1.749608e+08       0.0   \n",
       "PROVINCIAL_DEPARTMENT_PAYMENTS   12.0  6.184578e+07  1.108597e+08   19779.0   \n",
       "INSURANCE_PAYMENTS               43.0  2.676996e+08  6.015945e+08  123864.0   \n",
       "UTILITY_-_PEOPLE_AFFECTED       142.0  5.388795e+04  1.687647e+05       0.0   \n",
       "year                            229.0  2.009808e+03  4.623332e+00    2001.0   \n",
       "month                           229.0  6.296943e+00  2.365512e+00       1.0   \n",
       "\n",
       "                                        25%         50%           75%  \\\n",
       "FATALITIES                             0.00         0.0  0.000000e+00   \n",
       "INJURED_/_INFECTED                     0.00         0.0  0.000000e+00   \n",
       "EVACUATED                              0.00       269.0  1.000000e+03   \n",
       "ESTIMATED_TOTAL_COST                   0.00         0.0  1.805200e+07   \n",
       "NORMALIZED_TOTAL_COST                  0.00         0.0  8.806147e+05   \n",
       "FEDERAL_DFAA_PAYMENTS            1527811.00   8165152.0  2.476300e+07   \n",
       "PROVINCIAL_DEPARTMENT_PAYMENTS    601707.25   1150000.0  5.908750e+07   \n",
       "INSURANCE_PAYMENTS              36940000.00  96183000.0  1.731560e+08   \n",
       "UTILITY_-_PEOPLE_AFFECTED              0.00         0.0  4.500000e+03   \n",
       "year                                2007.00      2009.0  2.014000e+03   \n",
       "month                                  5.00         6.0  7.000000e+00   \n",
       "\n",
       "                                         max  \n",
       "FATALITIES                      4.550000e+02  \n",
       "INJURED_/_INFECTED              1.000000e+02  \n",
       "EVACUATED                       1.000000e+05  \n",
       "ESTIMATED_TOTAL_COST            4.068678e+09  \n",
       "NORMALIZED_TOTAL_COST           1.901251e+08  \n",
       "FEDERAL_DFAA_PAYMENTS           1.015742e+09  \n",
       "PROVINCIAL_DEPARTMENT_PAYMENTS  3.000000e+08  \n",
       "INSURANCE_PAYMENTS              3.600000e+09  \n",
       "UTILITY_-_PEOPLE_AFFECTED       1.500000e+06  \n",
       "year                            2.018000e+03  \n",
       "month                           1.200000e+01  "
      ]
     },
     "execution_count": 576,
     "metadata": {},
     "output_type": "execute_result"
    }
   ],
   "source": [
    "# Visualizing the cleaned disaster dataset parameters\n",
    "disaster.describe().T\n",
    "\n",
    "# This is useful only if we were to consider the quantitative features of this dataset\n",
    "# (e.g. the fatalities or the cost associated with the disaster events)."
   ]
  },
  {
   "cell_type": "code",
   "execution_count": 577,
   "id": "907797c0",
   "metadata": {},
   "outputs": [
    {
     "data": {
      "text/plain": [
       "array(['Meteorological - Hydrological', 'Geological'], dtype=object)"
      ]
     },
     "execution_count": 577,
     "metadata": {},
     "output_type": "execute_result"
    }
   ],
   "source": [
    "# Verification of the different value in the event_subgroup column.\n",
    "disaster['EVENT_SUBGROUP'].unique()\n",
    "\n",
    "# This column contains 2 categorical values: Meterological/hydrological and geological."
   ]
  },
  {
   "cell_type": "code",
   "execution_count": 578,
   "id": "c41a42c6",
   "metadata": {},
   "outputs": [
    {
     "data": {
      "image/png": "[encoded data removed]",
      "text/plain": [
       "<Figure size 432x288 with 1 Axes>"
      ]
     },
     "metadata": {},
     "output_type": "display_data"
    },
    {
     "data": {
      "text/plain": [
       "Meteorological - Hydrological    225\n",
       "Geological                         4\n",
       "Name: EVENT_SUBGROUP, dtype: int64"
      ]
     },
     "execution_count": 578,
     "metadata": {},
     "output_type": "execute_result"
    }
   ],
   "source": [
    "# Verification of the proportion between the 2 categories.\n",
    "sns.countplot(data=disaster, x='EVENT_SUBGROUP')\n",
    "plt.xlabel('Event subgroup')\n",
    "plt.ylabel('Frequency')\n",
    "plt.title('Frequency of event subgroups')\n",
    "plt.show()\n",
    "\n",
    "disaster['EVENT_SUBGROUP'].value_counts()\n",
    "\n",
    "# By far, meterological/hydrological event subgroup is the more common in the recorded disasters."
   ]
  },
  {
   "cell_type": "code",
   "execution_count": 579,
   "id": "15f98446",
   "metadata": {},
   "outputs": [
    {
     "data": {
      "text/plain": [
       "array(['Storms and Severe Thunderstorms', 'Tornado', 'Wildfire', 'Flood',\n",
       "       'Heat Event', 'Storm - Unspecified / Other', 'Winter Storm',\n",
       "       'Landslide', 'Hurricane / Typhoon / Tropical Storm', 'Earthquake',\n",
       "       'Drought', 'Avalanche', 'Storm Surge'], dtype=object)"
      ]
     },
     "execution_count": 579,
     "metadata": {},
     "output_type": "execute_result"
    }
   ],
   "source": [
    "# Verification of the different value in the event_type column.\n",
    "disaster['EVENT_TYPE'].unique()\n",
    "\n",
    "# This column contain 13 different categorical values."
   ]
  },
  {
   "cell_type": "code",
   "execution_count": 580,
   "id": "41f96c93",
   "metadata": {},
   "outputs": [
    {
     "data": {
      "image/png": "[encoded data removed]",
      "text/plain": [
       "<Figure size 432x288 with 1 Axes>"
      ]
     },
     "metadata": {},
     "output_type": "display_data"
    },
    {
     "data": {
      "text/plain": [
       "Flood                                   74\n",
       "Wildfire                                56\n",
       "Storms and Severe Thunderstorms         50\n",
       "Tornado                                 15\n",
       "Winter Storm                            12\n",
       "Storm - Unspecified / Other             10\n",
       "Heat Event                               3\n",
       "Landslide                                3\n",
       "Avalanche                                2\n",
       "Hurricane / Typhoon / Tropical Storm     1\n",
       "Earthquake                               1\n",
       "Drought                                  1\n",
       "Storm Surge                              1\n",
       "Name: EVENT_TYPE, dtype: int64"
      ]
     },
     "execution_count": 580,
     "metadata": {},
     "output_type": "execute_result"
    }
   ],
   "source": [
    "# Verification of the proportion between the 13 categories.\n",
    "sns.countplot(data=disaster, x='EVENT_TYPE')\n",
    "plt.xlabel('Event type')\n",
    "plt.ylabel('Frequency')\n",
    "plt.title('Frequency of event types')\n",
    "plt.xticks(rotation=45, horizontalalignment='right')\n",
    "plt.show()\n",
    "\n",
    "disaster['EVENT_TYPE'].value_counts()\n",
    "\n",
    "# Flooding events are the most common, followed by wildfire and storms/severe thumderstorms."
   ]
  },
  {
   "cell_type": "code",
   "execution_count": 581,
   "id": "9a4ec515",
   "metadata": {},
   "outputs": [
    {
     "data": {
      "image/png": "[encoded data removed]",
      "text/plain": [
       "<Figure size 432x288 with 1 Axes>"
      ]
     },
     "metadata": {},
     "output_type": "display_data"
    }
   ],
   "source": [
    "# Verification of annual occurrence of each event type.\n",
    "disaster_yearly = disaster.groupby(['year', 'EVENT_TYPE'])['year'].count().unstack('EVENT_TYPE').fillna(0)\n",
    "\n",
    "cmap = cm.get_cmap('Spectral')\n",
    "\n",
    "disaster_yearly.plot(kind='bar', stacked=True, cmap=cmap)\n",
    "plt.legend(bbox_to_anchor=(1, 1))\n",
    "plt.ylabel('Event count')\n",
    "plt.xlabel('Year')\n",
    "plt.show()\n",
    "\n",
    "# We can see that 2008 and 2016 were particularly affected by natural disaster.\n",
    "# We can see that flooding events are appening each year.\n",
    "# We can see that wildfire are also common events."
   ]
  },
  {
   "cell_type": "code",
   "execution_count": 582,
   "id": "ae1ac398",
   "metadata": {},
   "outputs": [
    {
     "name": "stdout",
     "output_type": "stream",
     "text": [
      "['British Columbia' 'National Capital Region' 'Toronto' 'Southern Alberta'\n",
      " 'Ontario' 'Quebec' 'Southern Manitoba' 'Southern Ontario'\n",
      " 'Grand River, ON' 'Windsor, Ontario' 'Saskatoon' 'Eastern Canada'\n",
      " 'Churchill, Manitoba' 'Red Earth First Nation SK'\n",
      " 'South Coast and Lower Mainland British Columbia'\n",
      " 'Windsor and Tecumseh ON' 'West Kelowna BC' 'Fort McMurray AB'\n",
      " 'Long Plain First Nation MB' 'Prairie Provinces'\n",
      " 'Alberta and Saskatchewan' 'Burns Bog BC' 'Kenora ON'\n",
      " 'Alberta, Saskatchewan, Manitoba and Ontario'\n",
      " 'Easterville and Chemawawin MB' 'Northeastern British Columbia'\n",
      " 'Kashechewan First Nation ON' 'Paul First Nation, AB' 'Horton ON'\n",
      " 'Ontario, Quebec, New Brunswick, Nove Scotia, Prince Edward Island and Newfoundland'\n",
      " 'Lower Mainland British Columbia' 'Chestermere AB'\n",
      " 'Northern Saskatchewan' 'Fort Albany and Kashcewan First Nation'\n",
      " 'Southern Saskatchewan' 'Angus, Ontario' 'Southern Quebec' 'Qu?bec'\n",
      " 'Toronto ON' 'Southeast British Columbia'\n",
      " 'Kasabonika Lake First Nation ON' 'Cumberland House SK'\n",
      " 'Edmonton, Alberta' 'Vita MB' 'Lethbridge and Coalhurst AB'\n",
      " 'Peachland BC' 'Calgary, Alberta' 'Sandy Lake First Nation ON'\n",
      " 'Island Lake and Garden Hill MB' 'Mackenzie County AB' 'Sicamous BC'\n",
      " 'Yukon, Northwest Territories and British Columbia' 'Thunder Bay ON'\n",
      " 'Timmins ON' 'Kirkland Lake ON'\n",
      " 'Fort Albany and Kashechewan First Nations ON'\n",
      " 'Kashechewan and Fort Albany ON'\n",
      " 'Quebec, New Brunswick, Nova Scotia, Prince Eward Island, and Newfoundland and Labrador'\n",
      " 'Goderich ON'\n",
      " 'Eckville, Lacombe, Paddle River, Fort Vermilion, and Peace River AB'\n",
      " 'Northern Ontario'\n",
      " 'Mishkeegogamang Ojibway First Nation (New Osnaburgh) ON'\n",
      " 'Weyburn and Estavan SK' 'Hall Lake SK' 'Wollaston Lake SK' 'Calgary AB'\n",
      " 'Slave Lake AB' 'Brandon MB' 'Assiniboine, Roseau and Red Rivers MB'\n",
      " 'Mont?r?gie QC' 'Lambton County ON' 'Gasp? and Bonaventure QC'\n",
      " 'Kingcome Inlet and Bella Coola BC' 'North Battleford SK'\n",
      " 'Ontario and Quebec' 'Saskatchewan' 'Midland ON' 'Cranberry Portage MB'\n",
      " 'Val-des-Bois and Gracefield QC' 'Southern Alberta and Saskatchewan'\n",
      " 'Leamington ON' 'Winnipeg MB' 'Chapleau ON'\n",
      " 'Wemotaci reserve and La Tuque QC' 'County of Thorhild AB'\n",
      " 'Duncan and North Cowichan (Vancouver Island) BC'\n",
      " 'Toronto, Windsor, Vaughan and Newmarket ON' 'Winnipeg and Steinbach MB'\n",
      " 'D?l?age and Mont-Laurier QC' 'Vancouver and Fraser BC'\n",
      " 'Hamilton and Toronto ON' 'Edmonton AB' 'Notre-Dame-des-Prairies QC'\n",
      " 'Montreal, Alma, La Tuque and Baie-Saint-Paul QC'\n",
      " 'Kelowna, Kamloops and Cariboo BC' 'Ottawa, Toronto and Windsor ON'\n",
      " 'Roseau River First Nation, Sioux Falls, Peguis First Nation, St. Andrews, St. Clements and Selkirk MB'\n",
      " 'Saskatchewan and Alberta'\n",
      " 'Vancouver, Fraser Valley and the Greater Vancouver Regional Districts BC'\n",
      " 'Greater Vancouver and Fraser Valley BC' 'Harvey Pass, British Columbia'\n",
      " 'Kingston ON' 'Quebec and New Brunswick' 'Regina SK' 'La Tuque QC'\n",
      " 'Deschambault Lake SK' 'Lethbridge AB' 'Lanaudi?re QC' 'Pukatawagan MB'\n",
      " 'Mont?r?gie and Eastern Townships QC' 'Huntingdon QC'\n",
      " 'Norway House and Sherridon MB' 'High River AB' 'Southwest Alberta'\n",
      " 'South-Central Manitoba' 'Newbrook AB' 'James Bay ON' 'Quebec City QC'\n",
      " 'Albany River ON' 'Trent Hills ON' 'Belleville ON' 'Paddockwood SK'\n",
      " 'Port Bruce ON' 'Matane QC' 'Prince George BC' 'Vancouver BC'\n",
      " 'Gasp? and Riviere-au-Renard QC' 'Kootenay BC' 'South Indian Lake MB'\n",
      " 'Elie MB'\n",
      " 'Municipalities of Pipestone, Sifton, Cameron, White water, Morton, Riverside, Turtle Mountain, Strathcona and Argyle and the Whiteshell Provincial Park MB'\n",
      " 'Calgary, Edmonton, St. Albert, the town of Stony Plain, Parkland County, Two Hills County, Kneehill County, Camrose, and the municipal districts of Rocky View and Bighorn AB'\n",
      " 'Terrace, Smithers & Mount Currie BC' 'Sept-?les QC' 'Fishing Lake SK'\n",
      " 'Northwest Ontario' 'Gatineau QC' 'Selkirk MB' 'Maple Ridge BC'\n",
      " 'South Coast and Lower Mainland BC' 'Russell ON'\n",
      " 'Vancouver, British Columbia' 'Saint-Joseph et Vall?e QC'\n",
      " 'Sainte-Anne-des-Plaines QC' 'Northern and Central Ontario'\n",
      " 'Cariboo-Chilcotin BC' 'Nordegg AB' 'Tumbler Ridge BC' 'Mistissini QC'\n",
      " 'Slocan River BC' 'Kashechewan ON' 'Red Earth SK' 'Delta BC'\n",
      " 'Lorette River, Quebec City QC' 'Kelowna BC'\n",
      " 'Cumberland House Cree First Nation SK' 'Chibougamau and James Bay QC'\n",
      " 'Manitoba' 'Chisasibi QC' 'North Vancouver BC' 'The Pas MB'\n",
      " 'Peterborough, Ontario' 'Grande Prairie AB' 'Attawapiskat ON'\n",
      " 'South Central Manitoba' 'Khyex River BC'\n",
      " 'Vancouver Island and Southwestern British Columbia'\n",
      " 'Kelowna, British Columbia'\n",
      " \"The Bois-Francs, Chaudi?re-Appalaches, Beauce, l'Outaouais, Lanaudi?re, and Abitibi-T?miscamingue regions QC\"\n",
      " 'McLure, British Columbia' 'Western Canada'\n",
      " 'Nemiscau region, near James Bay QC' 'Hawes/Patuanak SK'\n",
      " 'Crutwell, Dillon, Hatchett Lake, Pelican Narrows, Deschambeault, Wahpeton First Nation, Nordell, Peter Pond SK'\n",
      " 'Turnor Lake SK' 'Peerless Lake, Trout Lake AB' 'Southeast MB'\n",
      " 'Montreal Lake SK' 'Northern Alberta and Conklin'\n",
      " 'Attawapiskat First Nation ON'\n",
      " 'Morley, Chapple, Dawson, Emo, Lake of the Woods, La Vallee, Rainy River, Fort Frances ON'\n",
      " 'Northeast and Central British Columbia' 'Peace River area BC']\n",
      "Number of different locations: 183\n"
     ]
    }
   ],
   "source": [
    "# Verification of the local distribution of the disasters. \n",
    "print(disaster['PLACE'].unique())\n",
    "print('Number of different locations:', disaster['PLACE'].nunique())\n",
    "\n",
    "# There is 183 different localities affected by natural disaster between 2001 and 2018. \n",
    "# The difficulty with this information is in the range of the area covered,\n",
    "# sometime being the entire province, a zone or a city (e.g. 'British Columbia', 'Southern Ontario' or 'Toronto')."
   ]
  },
  {
   "cell_type": "code",
   "execution_count": 583,
   "id": "58782b54",
   "metadata": {},
   "outputs": [],
   "source": [
    "# Associating manually each location event to a province or territory to make possible a geographical analysis.\n",
    "disaster['prov_ter'] = \"\"\n",
    "disaster.loc[disaster['PLACE'].str.contains('British Columbia'), 'prov_ter'] = 'BC'\n",
    "disaster.loc[disaster['PLACE'].str.contains('BC'), 'prov_ter'] = 'BC'\n",
    "disaster.loc[disaster['PLACE'].str.contains('Alberta'), 'prov_ter'] = 'AB'\n",
    "disaster.loc[disaster['PLACE'].str.contains('AB'), 'prov_ter'] = 'AB'\n",
    "disaster.loc[disaster['PLACE'].str.contains('Saskatoon'), 'prov_ter'] = 'SK'\n",
    "disaster.loc[disaster['PLACE'].str.contains('Saskatchewan'), 'prov_ter'] = 'SK'\n",
    "disaster.loc[disaster['PLACE'].str.contains('SK'), 'prov_ter'] = 'SK'\n",
    "disaster.loc[disaster['PLACE'].str.contains('Manitoba'), 'prov_ter'] = 'MB'\n",
    "disaster.loc[disaster['PLACE'].str.contains('MB'), 'prov_ter'] = 'MB'\n",
    "disaster.loc[disaster['PLACE'].str.contains('National Capital Region'), 'prov_ter'] = 'ON'\n",
    "disaster.loc[disaster['PLACE'].str.contains('Toronto'), 'prov_ter'] = 'ON'\n",
    "disaster.loc[disaster['PLACE'].str.contains('Ontario'), 'prov_ter'] = 'ON'\n",
    "disaster.loc[disaster['PLACE'].str.contains('ON'), 'prov_ter'] = 'ON'\n",
    "disaster.loc[disaster['PLACE'].str.contains('Fort Albany and Kashcewan First Nation'), 'prov_ter'] = 'ON'\n",
    "disaster.loc[disaster['PLACE'].str.contains('Qu'), 'prov_ter'] = 'QC'\n",
    "disaster.loc[disaster['PLACE'].str.contains('QC'), 'prov_ter'] = 'QC'"
   ]
  },
  {
   "cell_type": "code",
   "execution_count": 584,
   "id": "aaf46f6f",
   "metadata": {},
   "outputs": [],
   "source": [
    "# Dealing with the events that took place in multiple provinces:\n",
    "# Duplicating the event for each province where it appends.\n",
    "# ('Eastern Canada', 'Prairie Provinces', 'Alberta and Saskatchewan', 'Alberta, Saskatchewan, Manitoba and Ontario',\n",
    "# 'Ontario, Quebec, New Brunswick, Nove Scotia, Prince Edward Island and Newfoundland',\n",
    "# 'Yukon, Northwest Territories and British Columbia',\n",
    "# 'Quebec, New Brunswick, Nova Scotia, Prince Eward Island, and Newfoundland and Labrador', 'Saskatchewan and Alberta',\n",
    "# 'Quebec and New Brunswick', 'Western Canada')\n",
    "disaster.loc[229] = ['Disaster', 'Meteorological - Hydrological', 'Flood', 'Eastern Canada', '2017-05-04', 'A combination of significant rainfall from May...', 2.0, 'NaN', 4000.0, 116000000.0, 'NaN', '05/07/17 00:00', 'NaN', 'NaN', 116000000.0, 'NaN', 2017, 5, 'ON']\n",
    "disaster.loc[230] = ['Disaster', 'Meteorological - Hydrological', 'Flood', 'Eastern Canada', '2017-05-04', 'A combination of significant rainfall from May...', 2.0, 'NaN', 4000.0, 116000000.0, 'NaN', '05/07/17 00:00', 'NaN', 'NaN', 116000000.0, 'NaN', 2017, 5, 'QC']\n",
    "disaster.loc[231] = ['Disaster', 'Meteorological - Hydrological', 'Flood', 'Eastern Canada', '2017-05-04', 'A combination of significant rainfall from May...', 2.0, 'NaN', 4000.0, 116000000.0, 'NaN', '05/07/17 00:00', 'NaN', 'NaN', 116000000.0, 'NaN', 2017, 5, 'NB']\n",
    "disaster.loc[232] = ['Disaster', 'Meteorological - Hydrological', 'Flood', 'Eastern Canada', '2017-05-04', 'A combination of significant rainfall from May...', 2.0, 'NaN', 4000.0, 116000000.0, 'NaN', '05/07/17 00:00', 'NaN', 'NaN', 116000000.0, 'NaN', 2017, 5, 'NS']\n",
    "disaster.loc[233] = ['Disaster', 'Meteorological - Hydrological', 'Flood', 'Eastern Canada', '2017-05-04', 'A combination of significant rainfall from May...', 2.0, 'NaN', 4000.0, 116000000.0, 'NaN', '05/07/17 00:00', 'NaN', 'NaN', 116000000.0, 'NaN', 2017, 5, 'IPE']\n",
    "disaster.loc[234] = ['Disaster', 'Meteorological - Hydrological', 'Flood', 'Eastern Canada', '2017-05-04', 'A combination of significant rainfall from May...', 2.0, 'NaN', 4000.0, 116000000.0, 'NaN', '05/07/17 00:00', 'NaN', 'NaN', 116000000.0, 'NaN', 2017, 5, 'NFL']\n",
    "\n",
    "disaster.loc[235] = ['Disaster', 'Meteorological - Hydrological', 'Storms and Severe Thunderstorms', 'Prairie Provinces', '2016-07-18', 'Prairie Provinces, July 18-20, 2016. Southern ...', 'NaN', 'NaN', 'NaN', 102739000.0, 4800887.9, '7/20/2016 12:00:00 AM', 'NaN', 'NaN', 102739000.0, 'NaN', 2016, 7, 'AB']\n",
    "disaster.loc[236] = ['Disaster', 'Meteorological - Hydrological', 'Storms and Severe Thunderstorms', 'Prairie Provinces', '2016-07-18', 'Prairie Provinces, July 18-20, 2016. Southern ...', 'NaN', 'NaN', 'NaN', 102739000.0, 4800887.9, '7/20/2016 12:00:00 AM', 'NaN', 'NaN', 102739000.0, 'NaN', 2016, 7, 'SK']\n",
    "disaster.loc[237] = ['Disaster', 'Meteorological - Hydrological', 'Storms and Severe Thunderstorms', 'Prairie Provinces', '2016-07-18', 'Prairie Provinces, July 18-20, 2016. Southern ...', 'NaN', 'NaN', 'NaN', 102739000.0, 4800887.9, '7/20/2016 12:00:00 AM', 'NaN', 'NaN', 102739000.0, 'NaN', 2016, 7, 'MB']\n",
    "\n",
    "disaster.loc[238] = ['Disaster', 'Meteorological - Hydrological', 'Storms and Severe Thunderstorms', 'Prairie Provinces', '2016-07-08', 'Prairie Provinces, July 8-11, 2016. Severe sto...', 'NaN', 'NaN', 'NaN', 54252000.0, 2535140.2, '07/11/16 00:00', 'NaN', 'NaN', 54252000.0, 'NaN', 2016, 7, 'AB']\n",
    "disaster.loc[239] = ['Disaster', 'Meteorological - Hydrological', 'Storms and Severe Thunderstorms', 'Prairie Provinces', '2016-07-08', 'Prairie Provinces, July 8-11, 2016. Severe sto...', 'NaN', 'NaN', 'NaN', 54252000.0, 2535140.2, '07/11/16 00:00', 'NaN', 'NaN', 54252000.0, 'NaN', 2016, 7, 'SK']\n",
    "disaster.loc[240] = ['Disaster', 'Meteorological - Hydrological', 'Storms and Severe Thunderstorms', 'Prairie Provinces', '2016-07-08', 'Prairie Provinces, July 8-11, 2016. Severe sto...', 'NaN', 'NaN', 'NaN', 54252000.0, 2535140.2, '07/11/16 00:00', 'NaN', 'NaN', 54252000.0, 'NaN', 2016, 7, 'MB']\n",
    "\n",
    "disaster.loc[241] = ['Disaster', 'Meteorological - Hydrological', 'Storms and Severe Thunderstorms', 'Prairie Provinces', '2016-06-28', 'Prairie Provinces, June 28-30, 2016. Multiple ...', 'NaN', 'NaN', 'NaN', 89083000.0, 4162757.0, '6/30/2016 12:00:00 AM\t', 'NaN', 'NaN', 89083000.0, 'NaN', 2016, 6, 'AB']\n",
    "disaster.loc[242] = ['Disaster', 'Meteorological - Hydrological', 'Storms and Severe Thunderstorms', 'Prairie Provinces', '2016-06-28', 'Prairie Provinces, June 28-30, 2016. Multiple ...', 'NaN', 'NaN', 'NaN', 89083000.0, 4162757.0, '6/30/2016 12:00:00 AM\t', 'NaN', 'NaN', 89083000.0, 'NaN', 2016, 6, 'SK']\n",
    "disaster.loc[243] = ['Disaster', 'Meteorological - Hydrological', 'Storms and Severe Thunderstorms', 'Prairie Provinces', '2016-06-28', 'Prairie Provinces, June 28-30, 2016. Multiple ...', 'NaN', 'NaN', 'NaN', 89083000.0, 4162757.0, '6/30/2016 12:00:00 AM\t', 'NaN', 'NaN', 89083000.0, 'NaN', 2016, 6, 'MB']\n",
    "\n",
    "disaster.loc[244] = ['Disaster', 'Meteorological - Hydrological', 'Storms and Severe Thunderstorms', 'Prairie Provinces', '2015-06-12', 'June 12, 2015. A massive st...', 'NaN', 'NaN', 'NaN', 98184000.0, 4653270.1, '6/12/15 00:00', 'NaN', 'NaN', 98184000.0, 9000.0, 2015, 6, 'AB']\n",
    "disaster.loc[245] = ['Disaster', 'Meteorological - Hydrological', 'Storms and Severe Thunderstorms', 'Prairie Provinces', '2015-06-12', 'June 12, 2015. A massive st...', 'NaN', 'NaN', 'NaN', 98184000.0, 4653270.1, '6/12/15 00:00', 'NaN', 'NaN', 98184000.0, 9000.0, 2015, 6, 'SK']\n",
    "disaster.loc[246] = ['Disaster', 'Meteorological - Hydrological', 'Storms and Severe Thunderstorms', 'Prairie Provinces', '2015-06-12', 'June 12, 2015. A massive st...', 'NaN', 'NaN', 'NaN', 98184000.0, 4653270.1, '6/12/15 00:00', 'NaN', 'NaN', 98184000.0, 9000.0, 2015, 6, 'MB']\n",
    "\n",
    "disaster.loc[247] = ['Disaster', 'Meteorological - Hydrological', 'Storms and Severe Thunderstorms', 'Alberta and Saskatchewan', '2016-07-15', 'Alberta and Saskatchewan, July 15-16, 2016. A ...', 'NaN', 'NaN', 'NaN', 70468000.0, 3292897.2, '7/16/2016 12:00:00 AM', 'NaN', 'NaN', 70468000.0, 'NaN', 2016, 7, 'AB']\n",
    "disaster.loc[248] = ['Disaster', 'Meteorological - Hydrological', 'Storms and Severe Thunderstorms', 'Alberta and Saskatchewan', '2016-07-15', 'Alberta and Saskatchewan, July 15-16, 2016. A ...', 'NaN', 'NaN', 'NaN', 70468000.0, 3292897.2, '7/16/2016 12:00:00 AM', 'NaN', 'NaN', 70468000.0, 'NaN', 2016, 7, 'SK']\n",
    "\n",
    "disaster.loc[249] = ['Disaster', 'Meteorological - Hydrological', 'Storms and Severe Thunderstorms', 'Alberta and Saskatchewan', '2015-07-22', 'Alberta and Saskatchewan, July 22, 2015. Sever...', 'NaN', 'NaN', 'NaN', 45676000.0, 2164739.3, '7/22/2015 12:00:00 AM', 'NaN', 'NaN', 45676000.0, 'NaN', 2015, 7, 'AB']\n",
    "disaster.loc[250] = ['Disaster', 'Meteorological - Hydrological', 'Storms and Severe Thunderstorms', 'Alberta and Saskatchewan', '2015-07-22', 'Alberta and Saskatchewan, July 22, 2015. Sever...', 'NaN', 'NaN', 'NaN', 45676000.0, 2164739.3, '7/22/2015 12:00:00 AM', 'NaN', 'NaN', 45676000.0, 'NaN', 2015, 7, 'SK']\n",
    "\n",
    "disaster.loc[251] = ['Disaster', 'Meteorological - Hydrological', 'Winter Storm', 'Ontario, Quebec, New Brunswick, Nove Scotia, Prince Edward Island and Newfoundland', '2016-02-24', 'Ontario, Quebec, New Brunswick, Nove Scotia, P...', 'NaN', 'NaN', 200.0, 0, 0, '2/26/2016 12:00:00 AM', 'NaN', 'NaN', 750000.0, 'NaN', 2016, 2, 'ON']\n",
    "disaster.loc[252] = ['Disaster', 'Meteorological - Hydrological', 'Winter Storm', 'Ontario, Quebec, New Brunswick, Nove Scotia, Prince Edward Island and Newfoundland', '2016-02-24', 'Ontario, Quebec, New Brunswick, Nove Scotia, P...', 'NaN', 'NaN', 200.0, 0, 0, '2/26/2016 12:00:00 AM', 'NaN', 'NaN', 750000.0, 'NaN', 2016, 2, 'QC']\n",
    "disaster.loc[253] = ['Disaster', 'Meteorological - Hydrological', 'Winter Storm', 'Ontario, Quebec, New Brunswick, Nove Scotia, Prince Edward Island and Newfoundland', '2016-02-24', 'Ontario, Quebec, New Brunswick, Nove Scotia, P...', 'NaN', 'NaN', 200.0, 0, 0, '2/26/2016 12:00:00 AM', 'NaN', 'NaN', 750000.0, 'NaN', 2016, 2, 'NB']\n",
    "disaster.loc[254] = ['Disaster', 'Meteorological - Hydrological', 'Winter Storm', 'Ontario, Quebec, New Brunswick, Nove Scotia, Prince Edward Island and Newfoundland', '2016-02-24', 'Ontario, Quebec, New Brunswick, Nove Scotia, P...', 'NaN', 'NaN', 200.0, 0, 0, '2/26/2016 12:00:00 AM', 'NaN', 'NaN', 750000.0, 'NaN', 2016, 2, 'NS']\n",
    "disaster.loc[255] = ['Disaster', 'Meteorological - Hydrological', 'Winter Storm', 'Ontario, Quebec, New Brunswick, Nove Scotia, Prince Edward Island and Newfoundland', '2016-02-24', 'Ontario, Quebec, New Brunswick, Nove Scotia, P...', 'NaN', 'NaN', 200.0, 0, 0, '2/26/2016 12:00:00 AM', 'NaN', 'NaN', 750000.0, 'NaN', 2016, 2, 'IPE']\n",
    "disaster.loc[256] = ['Disaster', 'Meteorological - Hydrological', 'Winter Storm', 'Ontario, Quebec, New Brunswick, Nove Scotia, Prince Edward Island and Newfoundland', '2016-02-24', 'Ontario, Quebec, New Brunswick, Nove Scotia, P...', 'NaN', 'NaN', 200.0, 0, 0, '2/26/2016 12:00:00 AM', 'NaN', 'NaN', 750000.0, 'NaN', 2016, 2, 'NFL']\n",
    "\n",
    "disaster.loc[257] = ['Disaster', 'Meteorological - Hydrological', 'Flood', 'Yukon, Northwest Territories and British Columbia', '2012-06-06', 'Yukon, Northwest Territories and British Colum...', 0, 0, 137.0, 1503748.0, 74137.1, '6/30/2012 12:00:00 AM', 1503748.0, 'NaN', 'NaN', 'NaN', 2012, 6, 'YK']\n",
    "disaster.loc[258] = ['Disaster', 'Meteorological - Hydrological', 'Flood', 'Yukon, Northwest Territories and British Columbia', '2012-06-06', 'Yukon, Northwest Territories and British Colum...', 0, 0, 137.0, 1503748.0, 74137.1, '6/30/2012 12:00:00 AM', 1503748.0, 'NaN', 'NaN', 'NaN', 2012, 6, 'NWT']\n",
    "disaster.loc[259] = ['Disaster', 'Meteorological - Hydrological', 'Flood', 'Yukon, Northwest Territories and British Columbia', '2012-06-06', 'Yukon, Northwest Territories and British Colum...', 0, 0, 137.0, 1503748.0, 74137.1, '6/30/2012 12:00:00 AM', 1503748.0, 'NaN', 'NaN', 'NaN', 2012, 6, 'BC']\n",
    "\n",
    "disaster.loc[260] = ['Disaster', 'Meteorological - Hydrological', 'Hurricane / Typhoon / Tropical Storm', 'Quebec, New Brunswick, Nova Scotia, Prince Eward Island, and Newfoundland and Labrador', '2011-08-28', 'Quebec, New Brunswick, Nova Scotia, Prince Edw...','NaN' ,'NaN' ,'NaN' ,'NaN' ,'NaN' ,'NaN', 'NaN', 'NaN', 'NaN', 'NaN', 2011, 8, 'QC']\n",
    "disaster.loc[261] = ['Disaster', 'Meteorological - Hydrological', 'Hurricane / Typhoon / Tropical Storm', 'Quebec, New Brunswick, Nova Scotia, Prince Eward Island, and Newfoundland and Labrador', '2011-08-28', 'Quebec, New Brunswick, Nova Scotia, Prince Edw...','NaN' ,'NaN' ,'NaN' ,'NaN' ,'NaN' ,'NaN', 'NaN', 'NaN', 'NaN', 'NaN', 2011, 8, 'NB']\n",
    "disaster.loc[262] = ['Disaster', 'Meteorological - Hydrological', 'Hurricane / Typhoon / Tropical Storm', 'Quebec, New Brunswick, Nova Scotia, Prince Eward Island, and Newfoundland and Labrador', '2011-08-28', 'Quebec, New Brunswick, Nova Scotia, Prince Edw...','NaN' ,'NaN' ,'NaN' ,'NaN' ,'NaN' ,'NaN', 'NaN', 'NaN', 'NaN', 'NaN', 2011, 8, 'NS']\n",
    "disaster.loc[263] = ['Disaster', 'Meteorological - Hydrological', 'Hurricane / Typhoon / Tropical Storm', 'Quebec, New Brunswick, Nova Scotia, Prince Eward Island, and Newfoundland and Labrador', '2011-08-28', 'Quebec, New Brunswick, Nova Scotia, Prince Edw...','NaN' ,'NaN' ,'NaN' ,'NaN' ,'NaN' ,'NaN', 'NaN', 'NaN', 'NaN', 'NaN', 2011, 8, 'IPE']\n",
    "disaster.loc[264] = ['Disaster', 'Meteorological - Hydrological', 'Hurricane / Typhoon / Tropical Storm', 'Quebec, New Brunswick, Nova Scotia, Prince Eward Island, and Newfoundland and Labrador', '2011-08-28', 'Quebec, New Brunswick, Nova Scotia, Prince Edw...','NaN' ,'NaN' ,'NaN' ,'NaN' ,'NaN' ,'NaN', 'NaN', 'NaN', 'NaN', 'NaN', 2011, 8, 'NFL']\n",
    "\n",
    "disaster.loc[265] = ['Disaster', 'Meteorological - Hydrological', 'Drought', 'Saskatchewan and Alberta', '2009-03-01', 'Saskatchewan and Alberta, March 1 to July 1, 2...', 0 ,0 ,0 ,0 ,0 ,'07/01/09 00:00', 'NaN', 'NaN', 'NaN', 0, 2009, 3 , 'SK']\n",
    "disaster.loc[266] = ['Disaster', 'Meteorological - Hydrological', 'Drought', 'Saskatchewan and Alberta', '2009-03-01', 'Saskatchewan and Alberta, March 1 to July 1, 2...', 0 ,0 ,0 ,0 ,0 ,'07/01/09 00:00', 'NaN', 'NaN', 'NaN', 0, 2009, 3 , 'AB']\n",
    "\n",
    "disaster.loc[267] = ['Disaster', 'Meteorological - Hydrological', 'Storms and Severe Thunderstorms', 'Quebec and New Brunswick', '2008-07-31', 'Quebec and New Brunswick, July 31 to August 4,...', 2.0 ,0 ,74.0 ,1499116.0 ,78831.7, '08/04/08 00:00', '1499116.0', 'NaN', 'NaN', 0, 2008, 7 , 'QC']\n",
    "disaster.loc[268] = ['Disaster', 'Meteorological - Hydrological', 'Storms and Severe Thunderstorms', 'Quebec and New Brunswick', '2008-07-31', 'Quebec and New Brunswick, July 31 to August 4,...', 2.0 ,0 ,74.0 ,1499116.0 ,78831.7, '08/04/08 00:00', '1499116.0', 'NaN', 'NaN', 0, 2008, 7 , 'NB']\n",
    "                    \n",
    "disaster.loc[269] = ['Disaster', 'Meteorological - Hydrological', 'Avalanche', 'Western Canada', '2003-01-21', 'Golden, Fernie, Valemount, Nelson, Revelstoke,...', 30.0 ,'NaN', 2.0, 'NaN', 'NaN', '1/21/2003 12:00:00 AM', 'NaN', 'NaN', 'NaN', 0, 2003, 1 , 'BC']\n",
    "disaster.loc[269] = ['Disaster', 'Meteorological - Hydrological', 'Avalanche', 'Western Canada', '2003-01-21', 'Golden, Fernie, Valemount, Nelson, Revelstoke,...', 30.0 ,'NaN', 2.0, 'NaN', 'NaN', '1/21/2003 12:00:00 AM', 'NaN', 'NaN', 'NaN', 0, 2003, 1 , 'AB']\n",
    "disaster.loc[269] = ['Disaster', 'Meteorological - Hydrological', 'Avalanche', 'Western Canada', '2003-01-21', 'Golden, Fernie, Valemount, Nelson, Revelstoke,...', 30.0 ,'NaN', 2.0, 'NaN', 'NaN', '1/21/2003 12:00:00 AM', 'NaN', 'NaN', 'NaN', 0, 2003, 1 , 'SK']\n",
    "disaster.loc[269] = ['Disaster', 'Meteorological - Hydrological', 'Avalanche', 'Western Canada', '2003-01-21', 'Golden, Fernie, Valemount, Nelson, Revelstoke,...', 30.0 ,'NaN', 2.0, 'NaN', 'NaN', '1/21/2003 12:00:00 AM', 'NaN', 'NaN', 'NaN', 0, 2003, 1 , 'MB']"
   ]
  },
  {
   "cell_type": "code",
   "execution_count": 585,
   "id": "34c2d4f1",
   "metadata": {},
   "outputs": [
    {
     "name": "stdout",
     "output_type": "stream",
     "text": [
      "['BC' 'ON' 'AB' 'QC' 'MB' 'SK' 'NB' 'NS' 'IPE' 'NFL' 'YK' 'NWT']\n"
     ]
    }
   ],
   "source": [
    "# Removing the original rows that were duplicated.\n",
    "disaster = disaster[disaster['prov_ter'] != '']\n",
    "\n",
    "# Verification thant there is no more empty values.\n",
    "print(disaster['prov_ter'].unique())"
   ]
  },
  {
   "cell_type": "code",
   "execution_count": 586,
   "id": "74eaf45e",
   "metadata": {},
   "outputs": [
    {
     "data": {
      "image/png": "[encoded data removed]",
      "text/plain": [
       "<Figure size 432x288 with 1 Axes>"
      ]
     },
     "metadata": {},
     "output_type": "display_data"
    }
   ],
   "source": [
    "# Verification of geographical distribution of each event type.\n",
    "disaster_yearly = disaster.groupby(['prov_ter', 'EVENT_TYPE'])['prov_ter'].count().unstack('EVENT_TYPE').fillna(0)\n",
    "\n",
    "cmap = cm.get_cmap('Spectral')\n",
    "\n",
    "disaster_yearly.plot(kind='bar', stacked=True, cmap=cmap)\n",
    "plt.legend(bbox_to_anchor=(1, 1))\n",
    "plt.ylabel('Event count')\n",
    "plt.xlabel('Location')\n",
    "plt.show()\n",
    "\n",
    "# We can see that most event are happening in the most populated provinces and this may be due to a bias in data logging."
   ]
  },
  {
   "cell_type": "markdown",
   "id": "1c9a6699",
   "metadata": {},
   "source": [
    "### Focus on the airline_total dataset."
   ]
  },
  {
   "cell_type": "code",
   "execution_count": 587,
   "id": "25f18208",
   "metadata": {
    "scrolled": true
   },
   "outputs": [
    {
     "data": {
      "text/html": [
       "<div>\n",
       "<style scoped>\n",
       "    .dataframe tbody tr th:only-of-type {\n",
       "        vertical-align: middle;\n",
       "    }\n",
       "\n",
       "    .dataframe tbody tr th {\n",
       "        vertical-align: top;\n",
       "    }\n",
       "\n",
       "    .dataframe thead th {\n",
       "        text-align: right;\n",
       "    }\n",
       "</style>\n",
       "<table border=\"1\" class=\"dataframe\">\n",
       "  <thead>\n",
       "    <tr style=\"text-align: right;\">\n",
       "      <th></th>\n",
       "      <th>count</th>\n",
       "      <th>mean</th>\n",
       "      <th>std</th>\n",
       "      <th>min</th>\n",
       "      <th>25%</th>\n",
       "      <th>50%</th>\n",
       "      <th>75%</th>\n",
       "      <th>max</th>\n",
       "    </tr>\n",
       "  </thead>\n",
       "  <tbody>\n",
       "    <tr>\n",
       "      <th>VALUE</th>\n",
       "      <td>215.0</td>\n",
       "      <td>380265.637209</td>\n",
       "      <td>57661.016470</td>\n",
       "      <td>259238.0</td>\n",
       "      <td>338657.0</td>\n",
       "      <td>390620.0</td>\n",
       "      <td>419803.0</td>\n",
       "      <td>507708.0</td>\n",
       "    </tr>\n",
       "    <tr>\n",
       "      <th>year</th>\n",
       "      <td>215.0</td>\n",
       "      <td>2009.539535</td>\n",
       "      <td>5.179675</td>\n",
       "      <td>2001.0</td>\n",
       "      <td>2005.0</td>\n",
       "      <td>2010.0</td>\n",
       "      <td>2014.0</td>\n",
       "      <td>2018.0</td>\n",
       "    </tr>\n",
       "    <tr>\n",
       "      <th>month</th>\n",
       "      <td>215.0</td>\n",
       "      <td>6.525581</td>\n",
       "      <td>3.447611</td>\n",
       "      <td>1.0</td>\n",
       "      <td>4.0</td>\n",
       "      <td>7.0</td>\n",
       "      <td>9.5</td>\n",
       "      <td>12.0</td>\n",
       "    </tr>\n",
       "  </tbody>\n",
       "</table>\n",
       "</div>"
      ],
      "text/plain": [
       "       count           mean           std       min       25%       50%  \\\n",
       "VALUE  215.0  380265.637209  57661.016470  259238.0  338657.0  390620.0   \n",
       "year   215.0    2009.539535      5.179675    2001.0    2005.0    2010.0   \n",
       "month  215.0       6.525581      3.447611       1.0       4.0       7.0   \n",
       "\n",
       "            75%       max  \n",
       "VALUE  419803.0  507708.0  \n",
       "year     2014.0    2018.0  \n",
       "month       9.5      12.0  "
      ]
     },
     "execution_count": 587,
     "metadata": {},
     "output_type": "execute_result"
    }
   ],
   "source": [
    "# Visualizing the cleaned airline_total dataset parameters\n",
    "airline_total.describe().T\n",
    "\n",
    "# Only the \"VALUE\" row is pertinent here."
   ]
  },
  {
   "cell_type": "code",
   "execution_count": 588,
   "id": "03302dbb",
   "metadata": {},
   "outputs": [
    {
     "data": {
      "image/png": "[encoded data removed]",
      "text/plain": [
       "<Figure size 432x288 with 1 Axes>"
      ]
     },
     "metadata": {},
     "output_type": "display_data"
    }
   ],
   "source": [
    "# Verification of annual frequence of total aerial momvement yearly\n",
    "airline_total_sum  = airline_total.groupby(['year']).sum()\n",
    "\n",
    "sns.lineplot(x=\"year\", y=\"VALUE\", data=airline_total_sum)\n",
    "plt.xlabel('Year')\n",
    "plt.ylabel('Number of total aerial movement')\n",
    "plt.title('Frequency of total aerial movement by year')\n",
    "plt.xticks(np.arange(2000, 2019, step=2))\n",
    "ax = plt.gca()\n",
    "ax.xaxis.set_major_formatter(mtick.FormatStrFormatter('%.0f'))\n",
    "ax.yaxis.set_major_formatter(mtick.FormatStrFormatter('%.0f'))\n",
    "plt.show()\n",
    "\n",
    "# We can see that there is a major decrease in the number of air flight between 2001 (the first year considered) and 2006.\n",
    "# There is then a peak in the number of flight between 2007 and 2008, and then a subsequent decrease.\n",
    "# In fact, we can see that the shape of the curve is very similar to the disaster occurence.\n",
    "# We can then doubt about the impact of disater on the aerial traffic in Canada."
   ]
  },
  {
   "cell_type": "code",
   "execution_count": 589,
   "id": "9b37e1ed",
   "metadata": {},
   "outputs": [
    {
     "data": {
      "image/png": "[encoded data removed]",
      "text/plain": [
       "<Figure size 432x288 with 1 Axes>"
      ]
     },
     "metadata": {},
     "output_type": "display_data"
    }
   ],
   "source": [
    "# Verification of the distribution of the annual sum of aerial movement in Canada\n",
    "plt.hist(x = airline_total_sum['VALUE'], density=True, bins=5)\n",
    "plt.xlabel('Number of flight by year')\n",
    "plt.ylabel('Frquency')\n",
    "plt.title('Frequency of total aerial movement by year')\n",
    "plt.show()\n",
    "\n",
    "# We can see that the distribution of the number of flights by year is highly skewed toward high values.\n",
    "# This histrogram could be considered as biased because of the low number of value considered (yearly between 2001 and 2018)."
   ]
  },
  {
   "cell_type": "code",
   "execution_count": 590,
   "id": "311a65fb",
   "metadata": {},
   "outputs": [
    {
     "data": {
      "image/png": "[encoded data removed]",
      "text/plain": [
       "<Figure size 432x288 with 1 Axes>"
      ]
     },
     "metadata": {},
     "output_type": "display_data"
    }
   ],
   "source": [
    "# Verification of the distribution of the monthly sum of aerial movement in Canada\n",
    "plt.hist(x = airline_total['VALUE'], density=True, bins=20)\n",
    "plt.xlabel('Number of flight monthly')\n",
    "plt.ylabel('Frquency')\n",
    "plt.title('Frequency of total aerial movement monthly')\n",
    "plt.show()\n",
    "\n",
    "# We can see that the distribution of the number of flights by month over the same period (2001-2018) is bimodal."
   ]
  },
  {
   "cell_type": "code",
   "execution_count": 591,
   "id": "b2c491fb",
   "metadata": {},
   "outputs": [
    {
     "data": {
      "image/png": "[encoded data removed]",
      "text/plain": [
       "<Figure size 432x288 with 1 Axes>"
      ]
     },
     "metadata": {},
     "output_type": "display_data"
    }
   ],
   "source": [
    "# Verification of the distribution of the number of flight by month for each year.\n",
    "airline_total2 = airline_total.groupby(['month', 'year'])['VALUE'].sum().unstack('month')\n",
    "\n",
    "cmap = cm.get_cmap('Spectral')\n",
    "\n",
    "airline_total2.plot(kind='bar', stacked=True, cmap=cmap)\n",
    "plt.legend('JFMAMJJASON', bbox_to_anchor=(1, 1))\n",
    "plt.ylabel('Number of flight')\n",
    "plt.xlabel('Year')\n",
    "ax = plt.gca()\n",
    "ax.yaxis.set_major_formatter(mtick.FormatStrFormatter('%.0f'))\n",
    "plt.show()\n",
    "\n",
    "# There is not much difference between the number of flight for each month of the time period.\n",
    "# The increase, when there is, is diffused throughout the month."
   ]
  },
  {
   "cell_type": "markdown",
   "id": "5382f14b",
   "metadata": {},
   "source": [
    "### Focus on the airline_local dataset."
   ]
  },
  {
   "cell_type": "code",
   "execution_count": 592,
   "id": "30af71f5",
   "metadata": {},
   "outputs": [
    {
     "data": {
      "text/html": [
       "<div>\n",
       "<style scoped>\n",
       "    .dataframe tbody tr th:only-of-type {\n",
       "        vertical-align: middle;\n",
       "    }\n",
       "\n",
       "    .dataframe tbody tr th {\n",
       "        vertical-align: top;\n",
       "    }\n",
       "\n",
       "    .dataframe thead th {\n",
       "        text-align: right;\n",
       "    }\n",
       "</style>\n",
       "<table border=\"1\" class=\"dataframe\">\n",
       "  <thead>\n",
       "    <tr style=\"text-align: right;\">\n",
       "      <th></th>\n",
       "      <th>count</th>\n",
       "      <th>mean</th>\n",
       "      <th>std</th>\n",
       "      <th>min</th>\n",
       "      <th>25%</th>\n",
       "      <th>50%</th>\n",
       "      <th>75%</th>\n",
       "      <th>max</th>\n",
       "    </tr>\n",
       "  </thead>\n",
       "  <tbody>\n",
       "    <tr>\n",
       "      <th>VALUE</th>\n",
       "      <td>8965.0</td>\n",
       "      <td>9119.588622</td>\n",
       "      <td>6824.345723</td>\n",
       "      <td>382.0</td>\n",
       "      <td>4476.0</td>\n",
       "      <td>7270.0</td>\n",
       "      <td>11435.0</td>\n",
       "      <td>43962.0</td>\n",
       "    </tr>\n",
       "    <tr>\n",
       "      <th>year</th>\n",
       "      <td>8965.0</td>\n",
       "      <td>2009.485332</td>\n",
       "      <td>5.167620</td>\n",
       "      <td>2001.0</td>\n",
       "      <td>2005.0</td>\n",
       "      <td>2009.0</td>\n",
       "      <td>2014.0</td>\n",
       "      <td>2018.0</td>\n",
       "    </tr>\n",
       "    <tr>\n",
       "      <th>month</th>\n",
       "      <td>8965.0</td>\n",
       "      <td>6.523592</td>\n",
       "      <td>3.439868</td>\n",
       "      <td>1.0</td>\n",
       "      <td>4.0</td>\n",
       "      <td>7.0</td>\n",
       "      <td>10.0</td>\n",
       "      <td>12.0</td>\n",
       "    </tr>\n",
       "  </tbody>\n",
       "</table>\n",
       "</div>"
      ],
      "text/plain": [
       "        count         mean          std     min     25%     50%      75%  \\\n",
       "VALUE  8965.0  9119.588622  6824.345723   382.0  4476.0  7270.0  11435.0   \n",
       "year   8965.0  2009.485332     5.167620  2001.0  2005.0  2009.0   2014.0   \n",
       "month  8965.0     6.523592     3.439868     1.0     4.0     7.0     10.0   \n",
       "\n",
       "           max  \n",
       "VALUE  43962.0  \n",
       "year    2018.0  \n",
       "month     12.0  "
      ]
     },
     "execution_count": 592,
     "metadata": {},
     "output_type": "execute_result"
    }
   ],
   "source": [
    "# Visualizing the cleaned airline_local dataset parameters\n",
    "airline_local.describe().T\n",
    "\n",
    "# Only the \"VALUE\" row is pertinent here."
   ]
  },
  {
   "cell_type": "code",
   "execution_count": 593,
   "id": "af626724",
   "metadata": {},
   "outputs": [
    {
     "name": "stdout",
     "output_type": "stream",
     "text": [
      "['Abbotsford, British Columbia' 'Boundary Bay, British Columbia'\n",
      " 'Calgary International, Alberta' 'Calgary/Springbank, Alberta'\n",
      " 'Chicoutimi/St-Honoré, Quebec' 'Edmonton City Centre, Alberta'\n",
      " 'Edmonton International, Alberta' 'Edmonton/Villeneuve, Alberta'\n",
      " 'Gander International, Newfoundland and Labrador'\n",
      " 'Halifax/Robert L. Stanfield International, Nova Scotia'\n",
      " 'Hamilton, Ontario' 'Kelowna, British Columbia'\n",
      " 'Kitchener/Waterloo, Ontario' 'Langley, British Columbia'\n",
      " 'London, Ontario' 'Moncton/Greater Moncton International, New Brunswick'\n",
      " 'Montréal/Mirabel International, Quebec'\n",
      " 'Montréal/Pierre Elliott Trudeau International, Quebec'\n",
      " 'Montréal/St-Hubert, Quebec' 'Oshawa, Ontario'\n",
      " 'Ottawa/Macdonald-Cartier International, Ontario'\n",
      " 'Pitt Meadows, British Columbia' 'Prince George, British Columbia'\n",
      " 'Québec/Jean Lesage International, Quebec'\n",
      " 'Regina International, Saskatchewan'\n",
      " 'Saskatoon/John G. Diefenbaker International, Saskatchewan'\n",
      " 'Sault Ste. Marie, Ontario' 'Sept-Îles, Quebec'\n",
      " \"St. John's International, Newfoundland and Labrador\" 'St-Jean, Quebec'\n",
      " 'Sudbury, Ontario' 'Thunder Bay, Ontario'\n",
      " 'Toronto/Billy Bishop Toronto City, Ontario'\n",
      " 'Toronto/Buttonville Municipal, Ontario'\n",
      " 'Toronto/Lester B. Pearson International, Ontario'\n",
      " 'Vancouver Harbour, British Columbia'\n",
      " 'Vancouver International, British Columbia'\n",
      " 'Victoria International, British Columbia'\n",
      " 'Whitehorse International, Yukon' 'Windsor, Ontario'\n",
      " 'Winnipeg/James Armstrong Richardson International, Manitoba'\n",
      " 'Winnipeg/St. Andrews, Manitoba' 'Yellowknife, Northwest Territories'\n",
      " 'Fort McMurray, Alberta' 'Fredericton International, New Brunswick']\n",
      "Number of different Airports: 45\n"
     ]
    }
   ],
   "source": [
    "# Verification of the local distribution of the airports. \n",
    "print(airline_local['Airports'].unique())\n",
    "print('Number of different Airports:', airline_local['Airports'].nunique())\n",
    "\n",
    "# There is 45 different airports contributing to the total aerial movement in the country."
   ]
  },
  {
   "cell_type": "code",
   "execution_count": 594,
   "id": "e442e4eb",
   "metadata": {},
   "outputs": [
    {
     "data": {
      "text/plain": [
       "True"
      ]
     },
     "execution_count": 594,
     "metadata": {},
     "output_type": "execute_result"
    }
   ],
   "source": [
    "# Verification that all the airports are contained in the 13 provinces and territories in Canada\n",
    "BC = airline_local.Airports.str.contains(r'British Columbia').sum()\n",
    "AL = airline_local.Airports.str.contains(r'Alberta').sum()\n",
    "SA = airline_local.Airports.str.contains(r'Saskatchewan').sum()\n",
    "MA = airline_local.Airports.str.contains(r'Manitoba').sum()\n",
    "ON = airline_local.Airports.str.contains(r'Ontario').sum()\n",
    "QC = airline_local.Airports.str.contains(r'Quebec').sum()\n",
    "NB = airline_local.Airports.str.contains(r'New Brunswick').sum()\n",
    "NS = airline_local.Airports.str.contains(r'Nova Scotia').sum()\n",
    "NFL = airline_local.Airports.str.contains(r'Newfoundland and Labrador').sum()\n",
    "IPE = airline_local.Airports.str.contains(r'Prince Edouard Island').sum()\n",
    "YU = airline_local.Airports.str.contains(r'Yukon').sum()\n",
    "NWT = airline_local.Airports.str.contains(r'Northwest Territories').sum()\n",
    "NU = airline_local.Airports.str.contains(r'Nunavut').sum()\n",
    "\n",
    "BC + AL + SA + MA + ON + QC + NB + NS + NFL + YU + NWT + NU == airline_local['Airports'].count()\n",
    "\n",
    "# They are!"
   ]
  },
  {
   "cell_type": "code",
   "execution_count": 595,
   "id": "4b20dc86",
   "metadata": {},
   "outputs": [
    {
     "name": "stdout",
     "output_type": "stream",
     "text": [
      "['BC' 'AB' 'QC' 'NFL' 'NS' 'ON' 'NB' 'SK' 'YU' 'MB' 'NWT']\n"
     ]
    }
   ],
   "source": [
    "# Associating each airports to a province or a territory in a new column (prov_ter).\n",
    "airline_local['prov_ter'] = \"\"\n",
    "airline_local.loc[airline_local['Airports'].str.contains('British Columbia'), 'prov_ter'] = 'BC'\n",
    "airline_local.loc[airline_local['Airports'].str.contains('Alberta'), 'prov_ter'] = 'AB'\n",
    "airline_local.loc[airline_local['Airports'].str.contains('Saskatchewan'), 'prov_ter'] = 'SK'\n",
    "airline_local.loc[airline_local['Airports'].str.contains('Manitoba'), 'prov_ter'] = 'MB'\n",
    "airline_local.loc[airline_local['Airports'].str.contains('Ontario'), 'prov_ter'] = 'ON'\n",
    "airline_local.loc[airline_local['Airports'].str.contains('Quebec'), 'prov_ter'] = 'QC'\n",
    "airline_local.loc[airline_local['Airports'].str.contains('New Brunswick'), 'prov_ter'] = 'NB'\n",
    "airline_local.loc[airline_local['Airports'].str.contains('Nova Scotia'), 'prov_ter'] = 'NS'\n",
    "airline_local.loc[airline_local['Airports'].str.contains('Newfoundland and Labrador'), 'prov_ter'] = 'NFL'\n",
    "airline_local.loc[airline_local['Airports'].str.contains('Prince Edouard Island'), 'prov_ter'] = 'IPE'\n",
    "airline_local.loc[airline_local['Airports'].str.contains('Yukon'), 'prov_ter'] = 'YU'\n",
    "airline_local.loc[airline_local['Airports'].str.contains('Northwest Territories'), 'prov_ter'] = 'NWT'\n",
    "airline_local.loc[airline_local['Airports'].str.contains('Nunavut'), 'prov_ter'] = 'NU'\n",
    "\n",
    "# Verification thant there is no empty values.\n",
    "print(airline_local['prov_ter'].unique())"
   ]
  },
  {
   "cell_type": "code",
   "execution_count": 597,
   "id": "9a461b4b",
   "metadata": {},
   "outputs": [
    {
     "data": {
      "image/png": "[encoded data removed]",
      "text/plain": [
       "<Figure size 432x288 with 1 Axes>"
      ]
     },
     "metadata": {},
     "output_type": "display_data"
    }
   ],
   "source": [
    "# Verification of the distribution of the number of flight by province or territory for each year.\n",
    "airline_local2 = airline_local.groupby(['prov_ter', 'year'])['VALUE'].sum().unstack('prov_ter')\n",
    "\n",
    "cmap = cm.get_cmap('Spectral')\n",
    "\n",
    "airline_local2.plot(kind='bar', stacked=True, cmap=cmap)\n",
    "plt.legend(bbox_to_anchor=(1, 1))\n",
    "plt.ylabel('Number of flight')\n",
    "plt.xlabel('Year')\n",
    "ax = plt.gca()\n",
    "ax.yaxis.set_major_formatter(mtick.FormatStrFormatter('%.0f'))\n",
    "plt.show()\n",
    "\n",
    "# We can see that British Columbia and Ontario are the principal flights contributors."
   ]
  },
  {
   "cell_type": "raw",
   "id": "f9af28c3",
   "metadata": {},
   "source": [
    "The airline_local dataset could be more useful and bring more information than the airline_total dataset. The airline_local dataset should then be merge to the disaster dataset."
   ]
  },
  {
   "cell_type": "markdown",
   "id": "89caf2a2",
   "metadata": {},
   "source": [
    "### Merging the datasets."
   ]
  },
  {
   "cell_type": "raw",
   "id": "f8493720",
   "metadata": {},
   "source": [
    "To better work with the values from both datasets of interest, we need to merge both datasets.\n",
    "To do so, we need to create a new dataset to integrate the count of event types monthly."
   ]
  },
  {
   "cell_type": "code",
   "execution_count": 728,
   "id": "dccc1dd4",
   "metadata": {},
   "outputs": [
    {
     "data": {
      "text/html": [
       "<div>\n",
       "<style scoped>\n",
       "    .dataframe tbody tr th:only-of-type {\n",
       "        vertical-align: middle;\n",
       "    }\n",
       "\n",
       "    .dataframe tbody tr th {\n",
       "        vertical-align: top;\n",
       "    }\n",
       "\n",
       "    .dataframe thead th {\n",
       "        text-align: right;\n",
       "    }\n",
       "</style>\n",
       "<table border=\"1\" class=\"dataframe\">\n",
       "  <thead>\n",
       "    <tr style=\"text-align: right;\">\n",
       "      <th></th>\n",
       "      <th>date</th>\n",
       "      <th>EVENT_TYPE</th>\n",
       "      <th>prov_ter</th>\n",
       "    </tr>\n",
       "  </thead>\n",
       "  <tbody>\n",
       "    <tr>\n",
       "      <th>0</th>\n",
       "      <td>2018-12-01</td>\n",
       "      <td>Storms and Severe Thunderstorms</td>\n",
       "      <td>BC</td>\n",
       "    </tr>\n",
       "    <tr>\n",
       "      <th>1</th>\n",
       "      <td>2018-09-01</td>\n",
       "      <td>Tornado</td>\n",
       "      <td>ON</td>\n",
       "    </tr>\n",
       "    <tr>\n",
       "      <th>2</th>\n",
       "      <td>2018-08-01</td>\n",
       "      <td>Wildfire</td>\n",
       "      <td>BC</td>\n",
       "    </tr>\n",
       "    <tr>\n",
       "      <th>3</th>\n",
       "      <td>2018-08-01</td>\n",
       "      <td>Flood</td>\n",
       "      <td>ON</td>\n",
       "    </tr>\n",
       "    <tr>\n",
       "      <th>4</th>\n",
       "      <td>2018-08-01</td>\n",
       "      <td>Storms and Severe Thunderstorms</td>\n",
       "      <td>AB</td>\n",
       "    </tr>\n",
       "  </tbody>\n",
       "</table>\n",
       "</div>"
      ],
      "text/plain": [
       "        date                       EVENT_TYPE prov_ter\n",
       "0 2018-12-01  Storms and Severe Thunderstorms       BC\n",
       "1 2018-09-01                          Tornado       ON\n",
       "2 2018-08-01                         Wildfire       BC\n",
       "3 2018-08-01                            Flood       ON\n",
       "4 2018-08-01  Storms and Severe Thunderstorms       AB"
      ]
     },
     "execution_count": 728,
     "metadata": {},
     "output_type": "execute_result"
    }
   ],
   "source": [
    "# Creating disaster_monthly to be merged to the airline_local dataset\n",
    "disaster['date'] = pd.to_datetime(disaster[['year', 'month']].assign(DAY=1))\n",
    "disaster_monthly = disaster[['date', 'EVENT_TYPE', 'prov_ter']]\n",
    "\n",
    "disaster_monthly.head()"
   ]
  },
  {
   "cell_type": "code",
   "execution_count": 735,
   "id": "2268c564",
   "metadata": {},
   "outputs": [
    {
     "data": {
      "text/html": [
       "<div>\n",
       "<style scoped>\n",
       "    .dataframe tbody tr th:only-of-type {\n",
       "        vertical-align: middle;\n",
       "    }\n",
       "\n",
       "    .dataframe tbody tr th {\n",
       "        vertical-align: top;\n",
       "    }\n",
       "\n",
       "    .dataframe thead th {\n",
       "        text-align: right;\n",
       "    }\n",
       "</style>\n",
       "<table border=\"1\" class=\"dataframe\">\n",
       "  <thead>\n",
       "    <tr style=\"text-align: right;\">\n",
       "      <th></th>\n",
       "      <th>date</th>\n",
       "      <th>prov_ter</th>\n",
       "      <th>VALUE</th>\n",
       "    </tr>\n",
       "  </thead>\n",
       "  <tbody>\n",
       "    <tr>\n",
       "      <th>0</th>\n",
       "      <td>2001-02-01</td>\n",
       "      <td>AB</td>\n",
       "      <td>49568</td>\n",
       "    </tr>\n",
       "    <tr>\n",
       "      <th>1</th>\n",
       "      <td>2001-02-01</td>\n",
       "      <td>BC</td>\n",
       "      <td>89058</td>\n",
       "    </tr>\n",
       "    <tr>\n",
       "      <th>2</th>\n",
       "      <td>2001-02-01</td>\n",
       "      <td>MB</td>\n",
       "      <td>19869</td>\n",
       "    </tr>\n",
       "    <tr>\n",
       "      <th>3</th>\n",
       "      <td>2001-02-01</td>\n",
       "      <td>NB</td>\n",
       "      <td>4966</td>\n",
       "    </tr>\n",
       "    <tr>\n",
       "      <th>4</th>\n",
       "      <td>2001-02-01</td>\n",
       "      <td>NFL</td>\n",
       "      <td>7964</td>\n",
       "    </tr>\n",
       "    <tr>\n",
       "      <th>...</th>\n",
       "      <td>...</td>\n",
       "      <td>...</td>\n",
       "      <td>...</td>\n",
       "    </tr>\n",
       "    <tr>\n",
       "      <th>2360</th>\n",
       "      <td>2018-12-01</td>\n",
       "      <td>NWT</td>\n",
       "      <td>3390</td>\n",
       "    </tr>\n",
       "    <tr>\n",
       "      <th>2361</th>\n",
       "      <td>2018-12-01</td>\n",
       "      <td>ON</td>\n",
       "      <td>92554</td>\n",
       "    </tr>\n",
       "    <tr>\n",
       "      <th>2362</th>\n",
       "      <td>2018-12-01</td>\n",
       "      <td>QC</td>\n",
       "      <td>40929</td>\n",
       "    </tr>\n",
       "    <tr>\n",
       "      <th>2363</th>\n",
       "      <td>2018-12-01</td>\n",
       "      <td>SK</td>\n",
       "      <td>11215</td>\n",
       "    </tr>\n",
       "    <tr>\n",
       "      <th>2364</th>\n",
       "      <td>2018-12-01</td>\n",
       "      <td>YU</td>\n",
       "      <td>2155</td>\n",
       "    </tr>\n",
       "  </tbody>\n",
       "</table>\n",
       "<p>2365 rows × 3 columns</p>\n",
       "</div>"
      ],
      "text/plain": [
       "           date prov_ter  VALUE\n",
       "0    2001-02-01       AB  49568\n",
       "1    2001-02-01       BC  89058\n",
       "2    2001-02-01       MB  19869\n",
       "3    2001-02-01       NB   4966\n",
       "4    2001-02-01      NFL   7964\n",
       "...         ...      ...    ...\n",
       "2360 2018-12-01      NWT   3390\n",
       "2361 2018-12-01       ON  92554\n",
       "2362 2018-12-01       QC  40929\n",
       "2363 2018-12-01       SK  11215\n",
       "2364 2018-12-01       YU   2155\n",
       "\n",
       "[2365 rows x 3 columns]"
      ]
     },
     "execution_count": 735,
     "metadata": {},
     "output_type": "execute_result"
    }
   ],
   "source": [
    "# Creation of a new column in the airline_local dataset -> date (to be able to round monthly)\n",
    "airline_local['date'] = pd.to_datetime(airline_local[['year', 'month']].assign(DAY=1))\n",
    "airline_local_monthly = airline_local.groupby(['date','prov_ter'])[['date','prov_ter', 'VALUE']].sum().reset_index()\n",
    "airline_local_monthly"
   ]
  },
  {
   "cell_type": "code",
   "execution_count": 798,
   "id": "654977ff",
   "metadata": {},
   "outputs": [
    {
     "data": {
      "text/html": [
       "<div>\n",
       "<style scoped>\n",
       "    .dataframe tbody tr th:only-of-type {\n",
       "        vertical-align: middle;\n",
       "    }\n",
       "\n",
       "    .dataframe tbody tr th {\n",
       "        vertical-align: top;\n",
       "    }\n",
       "\n",
       "    .dataframe thead th {\n",
       "        text-align: right;\n",
       "    }\n",
       "</style>\n",
       "<table border=\"1\" class=\"dataframe\">\n",
       "  <thead>\n",
       "    <tr style=\"text-align: right;\">\n",
       "      <th></th>\n",
       "      <th>EVENT_TYPE</th>\n",
       "      <th>VALUE</th>\n",
       "      <th>date</th>\n",
       "      <th>prov_ter</th>\n",
       "    </tr>\n",
       "  </thead>\n",
       "  <tbody>\n",
       "    <tr>\n",
       "      <th>0</th>\n",
       "      <td>Storms and Severe Thunderstorms</td>\n",
       "      <td>49568</td>\n",
       "      <td>2018-12-01</td>\n",
       "      <td>BC</td>\n",
       "    </tr>\n",
       "    <tr>\n",
       "      <th>1</th>\n",
       "      <td>Tornado</td>\n",
       "      <td>89058</td>\n",
       "      <td>2018-09-01</td>\n",
       "      <td>ON</td>\n",
       "    </tr>\n",
       "    <tr>\n",
       "      <th>2</th>\n",
       "      <td>Wildfire</td>\n",
       "      <td>19869</td>\n",
       "      <td>2018-08-01</td>\n",
       "      <td>BC</td>\n",
       "    </tr>\n",
       "    <tr>\n",
       "      <th>3</th>\n",
       "      <td>Flood</td>\n",
       "      <td>4966</td>\n",
       "      <td>2018-08-01</td>\n",
       "      <td>ON</td>\n",
       "    </tr>\n",
       "    <tr>\n",
       "      <th>4</th>\n",
       "      <td>Storms and Severe Thunderstorms</td>\n",
       "      <td>7964</td>\n",
       "      <td>2018-08-01</td>\n",
       "      <td>AB</td>\n",
       "    </tr>\n",
       "    <tr>\n",
       "      <th>...</th>\n",
       "      <td>...</td>\n",
       "      <td>...</td>\n",
       "      <td>...</td>\n",
       "      <td>...</td>\n",
       "    </tr>\n",
       "    <tr>\n",
       "      <th>2360</th>\n",
       "      <td>None</td>\n",
       "      <td>3390</td>\n",
       "      <td>2018-12-01</td>\n",
       "      <td>NWT</td>\n",
       "    </tr>\n",
       "    <tr>\n",
       "      <th>2361</th>\n",
       "      <td>None</td>\n",
       "      <td>92554</td>\n",
       "      <td>2018-12-01</td>\n",
       "      <td>ON</td>\n",
       "    </tr>\n",
       "    <tr>\n",
       "      <th>2362</th>\n",
       "      <td>None</td>\n",
       "      <td>40929</td>\n",
       "      <td>2018-12-01</td>\n",
       "      <td>QC</td>\n",
       "    </tr>\n",
       "    <tr>\n",
       "      <th>2363</th>\n",
       "      <td>None</td>\n",
       "      <td>11215</td>\n",
       "      <td>2018-12-01</td>\n",
       "      <td>SK</td>\n",
       "    </tr>\n",
       "    <tr>\n",
       "      <th>2364</th>\n",
       "      <td>None</td>\n",
       "      <td>2155</td>\n",
       "      <td>2018-12-01</td>\n",
       "      <td>YU</td>\n",
       "    </tr>\n",
       "  </tbody>\n",
       "</table>\n",
       "<p>2365 rows × 4 columns</p>\n",
       "</div>"
      ],
      "text/plain": [
       "                           EVENT_TYPE  VALUE       date prov_ter\n",
       "0     Storms and Severe Thunderstorms  49568 2018-12-01       BC\n",
       "1                             Tornado  89058 2018-09-01       ON\n",
       "2                            Wildfire  19869 2018-08-01       BC\n",
       "3                               Flood   4966 2018-08-01       ON\n",
       "4     Storms and Severe Thunderstorms   7964 2018-08-01       AB\n",
       "...                               ...    ...        ...      ...\n",
       "2360                             None   3390 2018-12-01      NWT\n",
       "2361                             None  92554 2018-12-01       ON\n",
       "2362                             None  40929 2018-12-01       QC\n",
       "2363                             None  11215 2018-12-01       SK\n",
       "2364                             None   2155 2018-12-01       YU\n",
       "\n",
       "[2365 rows x 4 columns]"
      ]
     },
     "execution_count": 798,
     "metadata": {},
     "output_type": "execute_result"
    }
   ],
   "source": [
    "# Joining the datasets\n",
    "merged_df = disaster_monthly.combine_first(airline_local_monthly)\n",
    "merged_df.fillna('None', inplace=True)\n",
    "merged_df"
   ]
  },
  {
   "cell_type": "markdown",
   "id": "24a88ac3",
   "metadata": {},
   "source": [
    "### Analysis"
   ]
  },
  {
   "cell_type": "code",
   "execution_count": 828,
   "id": "128a29b5",
   "metadata": {},
   "outputs": [
    {
     "name": "stdout",
     "output_type": "stream",
     "text": [
      "(201,) (201,)\n"
     ]
    }
   ],
   "source": [
    "# Verification of the relation between the total aerial traffic monthly (x) and the total of disaster monthly,\n",
    "# globally in Canada.\n",
    "x1 = merged_df.groupby(['date'])['VALUE'].agg('sum')\n",
    "y1 = merged_df.groupby(['date'])['EVENT_TYPE'].agg('count')\n",
    "print(x1.shape, y1.shape)"
   ]
  },
  {
   "cell_type": "code",
   "execution_count": 841,
   "id": "592ff764",
   "metadata": {},
   "outputs": [
    {
     "name": "stderr",
     "output_type": "stream",
     "text": [
      "C:\\Users\\laurence\\anaconda3\\lib\\site-packages\\seaborn\\_decorators.py:36: FutureWarning: Pass the following variables as keyword args: x, y. From version 0.12, the only valid positional argument will be `data`, and passing other arguments without an explicit keyword will result in an error or misinterpretation.\n",
      "  warnings.warn(\n"
     ]
    },
    {
     "data": {
      "image/png": "[encoded data removed]",
      "text/plain": [
       "<Figure size 432x288 with 1 Axes>"
      ]
     },
     "metadata": {},
     "output_type": "display_data"
    },
    {
     "name": "stdout",
     "output_type": "stream",
     "text": [
      "[[1.         0.86311694]\n",
      " [0.86311694 1.        ]]\n"
     ]
    }
   ],
   "source": [
    "sns.regplot(x1, y1)\n",
    "plt.xlabel('Air flights by month')\n",
    "plt.ylabel('Disaster events by month')\n",
    "plt.title('Aerial traffic vs disaster events, monthly')\n",
    "plt.show()\n",
    "\n",
    "r1 = np.corrcoef(x1,y1)\n",
    "print(r1)\n",
    "\n",
    "# We can see that, contrary to expectations, the number of flights is increasing with the number of disaster appening.\n",
    "# The correlation coefficient is relatively strong (~0.86).\n",
    "# Maybe we are dealing with a cofonding effect (e.g. economic growth)."
   ]
  },
  {
   "cell_type": "code",
   "execution_count": 832,
   "id": "3316e56e",
   "metadata": {},
   "outputs": [
    {
     "name": "stdout",
     "output_type": "stream",
     "text": [
      "(2118,) (2118,)\n"
     ]
    }
   ],
   "source": [
    "# Verification of the relation between the total aerial traffic monthly (x) and the total of disaster monthly,\n",
    "# for each province and territory.\n",
    "x2 = merged_df.groupby(['date', 'prov_ter'])['VALUE'].agg('sum')\n",
    "y2 = merged_df.groupby(['date', 'prov_ter'])['EVENT_TYPE'].agg('count')\n",
    "print(x2.shape, y2.shape)"
   ]
  },
  {
   "cell_type": "code",
   "execution_count": 843,
   "id": "6c227adb",
   "metadata": {},
   "outputs": [
    {
     "name": "stderr",
     "output_type": "stream",
     "text": [
      "C:\\Users\\laurence\\anaconda3\\lib\\site-packages\\seaborn\\_decorators.py:36: FutureWarning: Pass the following variables as keyword args: x, y. From version 0.12, the only valid positional argument will be `data`, and passing other arguments without an explicit keyword will result in an error or misinterpretation.\n",
      "  warnings.warn(\n"
     ]
    },
    {
     "data": {
      "image/png": "[encoded data removed]",
      "text/plain": [
       "<Figure size 432x288 with 1 Axes>"
      ]
     },
     "metadata": {},
     "output_type": "display_data"
    },
    {
     "name": "stdout",
     "output_type": "stream",
     "text": [
      "[[1.         0.52837339]\n",
      " [0.52837339 1.        ]]\n"
     ]
    }
   ],
   "source": [
    "sns.regplot(x2, y2)\n",
    "plt.xlabel('Air flights by month')\n",
    "plt.ylabel('Disaster events by month')\n",
    "plt.title('Aerial traffic vs disaster events, monthly')\n",
    "plt.show()\n",
    "\n",
    "r2 = np.corrcoef(x2,y2)\n",
    "print(r2)\n",
    "\n",
    "# We can see now that the relation is not as clear, and that the regression does not honor data.\n",
    "# Even with a correlation coefficient of ~0.53, with can see that most data do not follow the regression."
   ]
  },
  {
   "cell_type": "markdown",
   "id": "d611ceac",
   "metadata": {},
   "source": [
    "### Conclusion"
   ]
  },
  {
   "cell_type": "raw",
   "id": "acfc4a3a",
   "metadata": {},
   "source": [
    "The kind of relation observed between aerial traffic and disaster event is contrary to expectations. A negative relation was expected as disaster would affect and sometime prevent flights. For the entire contry, we can observe a strong positive correlation. However, when the data is observed in a more granular way, i.e. at the level of the provinces and territories, the relation is not as strong.\n",
    "There seems to be a cofonding effect that is more prevailent at the country scale."
   ]
  }
 ],
 "metadata": {
  "kernelspec": {
   "display_name": "Python 3 (ipykernel)",
   "language": "python",
   "name": "python3"
  },
  "language_info": {
   "codemirror_mode": {
    "name": "ipython",
    "version": 3
   },
   "file_extension": ".py",
   "mimetype": "text/x-python",
   "name": "python",
   "nbconvert_exporter": "python",
   "pygments_lexer": "ipython3",
   "version": "3.9.7"
  }
 },
 "nbformat": 4,
 "nbformat_minor": 5
}
